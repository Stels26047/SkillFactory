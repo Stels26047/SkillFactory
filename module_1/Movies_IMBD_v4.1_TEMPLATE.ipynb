{
 "cells": [
  {
   "cell_type": "code",
   "execution_count": 0,
   "metadata": {
    "_cell_guid": "b1076dfc-b9ad-4769-8c92-a6c4dae69d19",
    "_uuid": "8f2839f25d086af736a60e9eeb907d3b93b6e0e5",
    "colab": {},
    "colab_type": "code",
    "id": "U2D2gTdJVp90"
   },
   "outputs": [],
   "source": [
    "import numpy as np\n",
    "import pandas as pd\n",
    "import seaborn as sns\n",
    "import matplotlib.pyplot as plt\n",
    "from collections import Counter"
   ]
  },
  {
   "cell_type": "code",
   "execution_count": 6,
   "metadata": {
    "_cell_guid": "79c7e3d0-c299-4dcb-8224-4455121ee9b0",
    "_uuid": "d629ff2d2480ee46fbb7e2d37f6b5fab8052498a",
    "colab": {},
    "colab_type": "code",
    "id": "oyGfxL3eVp9-"
   },
   "outputs": [
    {
     "data": {
      "text/html": [
       "<div>\n",
       "<style scoped>\n",
       "    .dataframe tbody tr th:only-of-type {\n",
       "        vertical-align: middle;\n",
       "    }\n",
       "\n",
       "    .dataframe tbody tr th {\n",
       "        vertical-align: top;\n",
       "    }\n",
       "\n",
       "    .dataframe thead th {\n",
       "        text-align: right;\n",
       "    }\n",
       "</style>\n",
       "<table border=\"1\" class=\"dataframe\">\n",
       "  <thead>\n",
       "    <tr style=\"text-align: right;\">\n",
       "      <th></th>\n",
       "      <th>Unnamed: 0</th>\n",
       "      <th>imdb_id</th>\n",
       "      <th>budget</th>\n",
       "      <th>revenue</th>\n",
       "      <th>original_title</th>\n",
       "      <th>cast</th>\n",
       "      <th>director</th>\n",
       "      <th>tagline</th>\n",
       "      <th>overview</th>\n",
       "      <th>runtime</th>\n",
       "      <th>genres</th>\n",
       "      <th>production_companies</th>\n",
       "      <th>release_date</th>\n",
       "      <th>vote_average</th>\n",
       "      <th>release_year</th>\n",
       "    </tr>\n",
       "  </thead>\n",
       "  <tbody>\n",
       "    <tr>\n",
       "      <th>1073</th>\n",
       "      <td>1073</td>\n",
       "      <td>tt1047540</td>\n",
       "      <td>25000000</td>\n",
       "      <td>119772232</td>\n",
       "      <td>Parental Guidance</td>\n",
       "      <td>Billy Crystal|Bette Midler|Marisa Tomei|Tom Ev...</td>\n",
       "      <td>Andy Fickman</td>\n",
       "      <td>Here come the grandparents.  There go the rules.</td>\n",
       "      <td>Artie and Diane agree to look after their thre...</td>\n",
       "      <td>104</td>\n",
       "      <td>Comedy</td>\n",
       "      <td>20th Century Fox|Chernin Entertainment|Walden ...</td>\n",
       "      <td>12/25/2012</td>\n",
       "      <td>5.9</td>\n",
       "      <td>2012</td>\n",
       "    </tr>\n",
       "    <tr>\n",
       "      <th>1700</th>\n",
       "      <td>1700</td>\n",
       "      <td>tt0461770</td>\n",
       "      <td>85000000</td>\n",
       "      <td>340487652</td>\n",
       "      <td>Enchanted</td>\n",
       "      <td>Patrick Dempsey|Amy Adams|James Marsden|Timoth...</td>\n",
       "      <td>Kevin Lima</td>\n",
       "      <td>This fairytale princess is about to meet a rea...</td>\n",
       "      <td>The beautiful princess Giselle is banished by ...</td>\n",
       "      <td>107</td>\n",
       "      <td>Comedy|Family|Fantasy|Romance</td>\n",
       "      <td>Walt Disney Pictures|Josephson Entertainment|A...</td>\n",
       "      <td>11/20/2007</td>\n",
       "      <td>6.6</td>\n",
       "      <td>2007</td>\n",
       "    </tr>\n",
       "    <tr>\n",
       "      <th>682</th>\n",
       "      <td>682</td>\n",
       "      <td>tt0970411</td>\n",
       "      <td>55000000</td>\n",
       "      <td>17869048</td>\n",
       "      <td>City of Ember</td>\n",
       "      <td>Saoirse Ronan|Harry Treadaway|Mary Kay Place|B...</td>\n",
       "      <td>Gil Kenan</td>\n",
       "      <td>Escape is the only option</td>\n",
       "      <td>For generations, the people of the City of Emb...</td>\n",
       "      <td>90</td>\n",
       "      <td>Adventure|Family|Fantasy</td>\n",
       "      <td>Playtone|Walden Media</td>\n",
       "      <td>10/7/2008</td>\n",
       "      <td>6.1</td>\n",
       "      <td>2008</td>\n",
       "    </tr>\n",
       "    <tr>\n",
       "      <th>704</th>\n",
       "      <td>704</td>\n",
       "      <td>tt1082868</td>\n",
       "      <td>12000000</td>\n",
       "      <td>40855419</td>\n",
       "      <td>Quarantine</td>\n",
       "      <td>Jennifer Carpenter|Steve Harris|Jay Hernandez|...</td>\n",
       "      <td>John Erick Dowdle</td>\n",
       "      <td>Contain The Truth.</td>\n",
       "      <td>A television reporter and her cameraman are tr...</td>\n",
       "      <td>89</td>\n",
       "      <td>Horror|Science Fiction|Thriller</td>\n",
       "      <td>Vertigo Entertainment|Screen Gems|Andale Pictures</td>\n",
       "      <td>10/10/2008</td>\n",
       "      <td>5.3</td>\n",
       "      <td>2008</td>\n",
       "    </tr>\n",
       "    <tr>\n",
       "      <th>1406</th>\n",
       "      <td>1406</td>\n",
       "      <td>tt0365485</td>\n",
       "      <td>10000000</td>\n",
       "      <td>17297244</td>\n",
       "      <td>The Matador</td>\n",
       "      <td>Pierce Brosnan|Greg Kinnear|Hope Davis|Portia ...</td>\n",
       "      <td>Richard Shepard</td>\n",
       "      <td>A hitman and a salesman walk into a bar...</td>\n",
       "      <td>The life of Danny Wright, a salesman forever o...</td>\n",
       "      <td>96</td>\n",
       "      <td>Action|Comedy|Crime|Drama|Thriller</td>\n",
       "      <td>Miramax Films</td>\n",
       "      <td>5/12/2005</td>\n",
       "      <td>6.0</td>\n",
       "      <td>2005</td>\n",
       "    </tr>\n",
       "  </tbody>\n",
       "</table>\n",
       "</div>"
      ],
      "text/plain": [
       "      Unnamed: 0    imdb_id    budget    revenue     original_title  \\\n",
       "1073        1073  tt1047540  25000000  119772232  Parental Guidance   \n",
       "1700        1700  tt0461770  85000000  340487652          Enchanted   \n",
       "682          682  tt0970411  55000000   17869048      City of Ember   \n",
       "704          704  tt1082868  12000000   40855419         Quarantine   \n",
       "1406        1406  tt0365485  10000000   17297244        The Matador   \n",
       "\n",
       "                                                   cast           director  \\\n",
       "1073  Billy Crystal|Bette Midler|Marisa Tomei|Tom Ev...       Andy Fickman   \n",
       "1700  Patrick Dempsey|Amy Adams|James Marsden|Timoth...         Kevin Lima   \n",
       "682   Saoirse Ronan|Harry Treadaway|Mary Kay Place|B...          Gil Kenan   \n",
       "704   Jennifer Carpenter|Steve Harris|Jay Hernandez|...  John Erick Dowdle   \n",
       "1406  Pierce Brosnan|Greg Kinnear|Hope Davis|Portia ...    Richard Shepard   \n",
       "\n",
       "                                                tagline  \\\n",
       "1073   Here come the grandparents.  There go the rules.   \n",
       "1700  This fairytale princess is about to meet a rea...   \n",
       "682                           Escape is the only option   \n",
       "704                                  Contain The Truth.   \n",
       "1406         A hitman and a salesman walk into a bar...   \n",
       "\n",
       "                                               overview  runtime  \\\n",
       "1073  Artie and Diane agree to look after their thre...      104   \n",
       "1700  The beautiful princess Giselle is banished by ...      107   \n",
       "682   For generations, the people of the City of Emb...       90   \n",
       "704   A television reporter and her cameraman are tr...       89   \n",
       "1406  The life of Danny Wright, a salesman forever o...       96   \n",
       "\n",
       "                                  genres  \\\n",
       "1073                              Comedy   \n",
       "1700       Comedy|Family|Fantasy|Romance   \n",
       "682             Adventure|Family|Fantasy   \n",
       "704      Horror|Science Fiction|Thriller   \n",
       "1406  Action|Comedy|Crime|Drama|Thriller   \n",
       "\n",
       "                                   production_companies release_date  \\\n",
       "1073  20th Century Fox|Chernin Entertainment|Walden ...   12/25/2012   \n",
       "1700  Walt Disney Pictures|Josephson Entertainment|A...   11/20/2007   \n",
       "682                               Playtone|Walden Media    10/7/2008   \n",
       "704   Vertigo Entertainment|Screen Gems|Andale Pictures   10/10/2008   \n",
       "1406                                      Miramax Films    5/12/2005   \n",
       "\n",
       "      vote_average  release_year  \n",
       "1073           5.9          2012  \n",
       "1700           6.6          2007  \n",
       "682            6.1          2008  \n",
       "704            5.3          2008  \n",
       "1406           6.0          2005  "
      ]
     },
     "execution_count": 6,
     "metadata": {},
     "output_type": "execute_result"
    }
   ],
   "source": [
    "data = pd.read_csv('movie_bd_v5.csv')\n",
    "data.sample(5)"
   ]
  },
  {
   "cell_type": "code",
   "execution_count": 7,
   "metadata": {
    "colab": {},
    "colab_type": "code",
    "id": "CoYUnagMVp-C"
   },
   "outputs": [
    {
     "data": {
      "text/html": [
       "<div>\n",
       "<style scoped>\n",
       "    .dataframe tbody tr th:only-of-type {\n",
       "        vertical-align: middle;\n",
       "    }\n",
       "\n",
       "    .dataframe tbody tr th {\n",
       "        vertical-align: top;\n",
       "    }\n",
       "\n",
       "    .dataframe thead th {\n",
       "        text-align: right;\n",
       "    }\n",
       "</style>\n",
       "<table border=\"1\" class=\"dataframe\">\n",
       "  <thead>\n",
       "    <tr style=\"text-align: right;\">\n",
       "      <th></th>\n",
       "      <th>Unnamed: 0</th>\n",
       "      <th>budget</th>\n",
       "      <th>revenue</th>\n",
       "      <th>runtime</th>\n",
       "      <th>vote_average</th>\n",
       "      <th>release_year</th>\n",
       "    </tr>\n",
       "  </thead>\n",
       "  <tbody>\n",
       "    <tr>\n",
       "      <th>count</th>\n",
       "      <td>1889.000000</td>\n",
       "      <td>1.889000e+03</td>\n",
       "      <td>1.889000e+03</td>\n",
       "      <td>1889.000000</td>\n",
       "      <td>1889.000000</td>\n",
       "      <td>1889.000000</td>\n",
       "    </tr>\n",
       "    <tr>\n",
       "      <th>mean</th>\n",
       "      <td>944.000000</td>\n",
       "      <td>5.431083e+07</td>\n",
       "      <td>1.553653e+08</td>\n",
       "      <td>109.658549</td>\n",
       "      <td>6.140762</td>\n",
       "      <td>2007.860773</td>\n",
       "    </tr>\n",
       "    <tr>\n",
       "      <th>std</th>\n",
       "      <td>545.451648</td>\n",
       "      <td>4.858721e+07</td>\n",
       "      <td>2.146698e+08</td>\n",
       "      <td>18.017041</td>\n",
       "      <td>0.764763</td>\n",
       "      <td>4.468841</td>\n",
       "    </tr>\n",
       "    <tr>\n",
       "      <th>min</th>\n",
       "      <td>0.000000</td>\n",
       "      <td>5.000000e+06</td>\n",
       "      <td>2.033165e+06</td>\n",
       "      <td>63.000000</td>\n",
       "      <td>3.300000</td>\n",
       "      <td>2000.000000</td>\n",
       "    </tr>\n",
       "    <tr>\n",
       "      <th>25%</th>\n",
       "      <td>472.000000</td>\n",
       "      <td>2.000000e+07</td>\n",
       "      <td>3.456058e+07</td>\n",
       "      <td>97.000000</td>\n",
       "      <td>5.600000</td>\n",
       "      <td>2004.000000</td>\n",
       "    </tr>\n",
       "    <tr>\n",
       "      <th>50%</th>\n",
       "      <td>944.000000</td>\n",
       "      <td>3.800000e+07</td>\n",
       "      <td>8.361541e+07</td>\n",
       "      <td>107.000000</td>\n",
       "      <td>6.100000</td>\n",
       "      <td>2008.000000</td>\n",
       "    </tr>\n",
       "    <tr>\n",
       "      <th>75%</th>\n",
       "      <td>1416.000000</td>\n",
       "      <td>7.200000e+07</td>\n",
       "      <td>1.782626e+08</td>\n",
       "      <td>120.000000</td>\n",
       "      <td>6.600000</td>\n",
       "      <td>2012.000000</td>\n",
       "    </tr>\n",
       "    <tr>\n",
       "      <th>max</th>\n",
       "      <td>1888.000000</td>\n",
       "      <td>3.800000e+08</td>\n",
       "      <td>2.781506e+09</td>\n",
       "      <td>214.000000</td>\n",
       "      <td>8.100000</td>\n",
       "      <td>2015.000000</td>\n",
       "    </tr>\n",
       "  </tbody>\n",
       "</table>\n",
       "</div>"
      ],
      "text/plain": [
       "        Unnamed: 0        budget       revenue      runtime  vote_average  \\\n",
       "count  1889.000000  1.889000e+03  1.889000e+03  1889.000000   1889.000000   \n",
       "mean    944.000000  5.431083e+07  1.553653e+08   109.658549      6.140762   \n",
       "std     545.451648  4.858721e+07  2.146698e+08    18.017041      0.764763   \n",
       "min       0.000000  5.000000e+06  2.033165e+06    63.000000      3.300000   \n",
       "25%     472.000000  2.000000e+07  3.456058e+07    97.000000      5.600000   \n",
       "50%     944.000000  3.800000e+07  8.361541e+07   107.000000      6.100000   \n",
       "75%    1416.000000  7.200000e+07  1.782626e+08   120.000000      6.600000   \n",
       "max    1888.000000  3.800000e+08  2.781506e+09   214.000000      8.100000   \n",
       "\n",
       "       release_year  \n",
       "count   1889.000000  \n",
       "mean    2007.860773  \n",
       "std        4.468841  \n",
       "min     2000.000000  \n",
       "25%     2004.000000  \n",
       "50%     2008.000000  \n",
       "75%     2012.000000  \n",
       "max     2015.000000  "
      ]
     },
     "execution_count": 7,
     "metadata": {},
     "output_type": "execute_result"
    }
   ],
   "source": [
    "data.describe()"
   ]
  },
  {
   "cell_type": "markdown",
   "metadata": {
    "colab_type": "text",
    "id": "DTIt7ezGVp-G"
   },
   "source": [
    "# Предобработка"
   ]
  },
  {
   "cell_type": "code",
   "execution_count": 14,
   "metadata": {
    "colab": {},
    "colab_type": "code",
    "id": "jNb40DwKVp-H"
   },
   "outputs": [],
   "source": [
    "answers = {} # создадим словарь для ответов\n",
    "\n",
    "# тут другие ваши предобработки колонок например:\n",
    "\n",
    "#the time given in the dataset is in string format.\n",
    "#So we need to change this in datetime format\n",
    "# ..."
   ]
  },
  {
   "cell_type": "markdown",
   "metadata": {
    "colab_type": "text",
    "id": "YxZaH-nPVp-L"
   },
   "source": [
    "# 1. У какого фильма из списка самый большой бюджет?"
   ]
  },
  {
   "cell_type": "markdown",
   "metadata": {
    "colab_type": "text",
    "id": "Nd-G5gX6Vp-M"
   },
   "source": [
    "Использовать варианты ответов в коде решения запрещено.    \n",
    "Вы думаете и в жизни у вас будут варианты ответов?)"
   ]
  },
  {
   "cell_type": "code",
   "execution_count": 0,
   "metadata": {
    "colab": {},
    "colab_type": "code",
    "id": "uVnXAY5RVp-O"
   },
   "outputs": [],
   "source": [
    "# в словарь вставляем номер вопроса и ваш ответ на него\n",
    "# Пример: \n",
    "#answers['1'] = '2. Spider-Man 3 (tt0413300)'\n",
    "# запишите свой вариант ответа\n",
    "#answers['1'] = '...'\n",
    "# если ответили верно, можете добавить комментарий со значком \"+\""
   ]
  },
  {
   "cell_type": "code",
   "execution_count": 108,
   "metadata": {
    "colab": {},
    "colab_type": "code",
    "id": "dZwb3m28Vp-S"
   },
   "outputs": [
    {
     "data": {
      "text/html": [
       "<div>\n",
       "<style scoped>\n",
       "    .dataframe tbody tr th:only-of-type {\n",
       "        vertical-align: middle;\n",
       "    }\n",
       "\n",
       "    .dataframe tbody tr th {\n",
       "        vertical-align: top;\n",
       "    }\n",
       "\n",
       "    .dataframe thead th {\n",
       "        text-align: right;\n",
       "    }\n",
       "</style>\n",
       "<table border=\"1\" class=\"dataframe\">\n",
       "  <thead>\n",
       "    <tr style=\"text-align: right;\">\n",
       "      <th></th>\n",
       "      <th>original_title</th>\n",
       "    </tr>\n",
       "  </thead>\n",
       "  <tbody>\n",
       "    <tr>\n",
       "      <th>723</th>\n",
       "      <td>Pirates of the Caribbean: On Stranger Tides</td>\n",
       "    </tr>\n",
       "  </tbody>\n",
       "</table>\n",
       "</div>"
      ],
      "text/plain": [
       "                                  original_title\n",
       "723  Pirates of the Caribbean: On Stranger Tides"
      ]
     },
     "execution_count": 108,
     "metadata": {},
     "output_type": "execute_result"
    }
   ],
   "source": [
    "# тут пишем ваш код для решения данного вопроса:\n",
    "import pandas as pd\n",
    "\n",
    "data = pd.read_csv('movie_bd_v5.csv')\n",
    "'''Находим фильм с самым большим бюджетом'''\n",
    "data[data.budget == data.budget.max()][['original_title']]\n",
    "\n"
   ]
  },
  {
   "cell_type": "code",
   "execution_count": 11,
   "metadata": {},
   "outputs": [
    {
     "data": {
      "text/plain": [
       "'Pirates of the Caribbean: On Stranger Tides'"
      ]
     },
     "execution_count": 11,
     "metadata": {},
     "output_type": "execute_result"
    }
   ],
   "source": [
    "answers['1'] = 'Pirates of the Caribbean: On Stranger Tides'\n",
    "answers['1']"
   ]
  },
  {
   "cell_type": "markdown",
   "metadata": {
    "colab_type": "text",
    "id": "K7L3nbRXVp-X"
   },
   "source": [
    "ВАРИАНТ 2"
   ]
  },
  {
   "cell_type": "code",
   "execution_count": 0,
   "metadata": {
    "colab": {},
    "colab_type": "code",
    "id": "OGaoQI7rVp-X"
   },
   "outputs": [],
   "source": [
    "# можно добавлять разные варианты решения"
   ]
  },
  {
   "cell_type": "markdown",
   "metadata": {
    "colab_type": "text",
    "id": "FNRbbI3vVp-c"
   },
   "source": [
    "# 2. Какой из фильмов самый длительный (в минутах)?"
   ]
  },
  {
   "cell_type": "code",
   "execution_count": 118,
   "metadata": {},
   "outputs": [
    {
     "name": "stdout",
     "output_type": "stream",
     "text": [
      "         original_title  runtime\n",
      "1157  Gods and Generals      214\n"
     ]
    }
   ],
   "source": [
    "import pandas as pd\n",
    "data = pd.read_csv('movie_bd_v5.csv')\n",
    "'''Находим самый длинный фильм в мин.'''\n",
    "runtime_max = data[['original_title', 'runtime']]\n",
    "runtime_max = runtime_max.query('runtime == runtime.max()')\n",
    "print(runtime_max)\n"
   ]
  },
  {
   "cell_type": "code",
   "execution_count": 17,
   "metadata": {
    "colab": {},
    "colab_type": "code",
    "id": "ot-VX2XrVp-g"
   },
   "outputs": [
    {
     "data": {
      "text/plain": [
       "'Gods and Generals'"
      ]
     },
     "execution_count": 17,
     "metadata": {},
     "output_type": "execute_result"
    }
   ],
   "source": [
    "answers['2'] = 'Gods and Generals'\n",
    "answers['2']"
   ]
  },
  {
   "cell_type": "markdown",
   "metadata": {
    "colab_type": "text",
    "id": "bapLlpW8Vp-k"
   },
   "source": [
    "# 3. Какой из фильмов самый короткий (в минутах)?\n",
    "\n",
    "\n",
    "\n"
   ]
  },
  {
   "cell_type": "code",
   "execution_count": 119,
   "metadata": {
    "colab": {},
    "colab_type": "code",
    "id": "YBxaSHuAVp-l",
    "scrolled": true
   },
   "outputs": [
    {
     "data": {
      "text/html": [
       "<div>\n",
       "<style scoped>\n",
       "    .dataframe tbody tr th:only-of-type {\n",
       "        vertical-align: middle;\n",
       "    }\n",
       "\n",
       "    .dataframe tbody tr th {\n",
       "        vertical-align: top;\n",
       "    }\n",
       "\n",
       "    .dataframe thead th {\n",
       "        text-align: right;\n",
       "    }\n",
       "</style>\n",
       "<table border=\"1\" class=\"dataframe\">\n",
       "  <thead>\n",
       "    <tr style=\"text-align: right;\">\n",
       "      <th></th>\n",
       "      <th>Unnamed: 0</th>\n",
       "      <th>imdb_id</th>\n",
       "      <th>budget</th>\n",
       "      <th>revenue</th>\n",
       "      <th>original_title</th>\n",
       "      <th>cast</th>\n",
       "      <th>director</th>\n",
       "      <th>tagline</th>\n",
       "      <th>overview</th>\n",
       "      <th>runtime</th>\n",
       "      <th>genres</th>\n",
       "      <th>production_companies</th>\n",
       "      <th>release_date</th>\n",
       "      <th>vote_average</th>\n",
       "      <th>release_year</th>\n",
       "    </tr>\n",
       "  </thead>\n",
       "  <tbody>\n",
       "    <tr>\n",
       "      <th>768</th>\n",
       "      <td>768</td>\n",
       "      <td>tt1449283</td>\n",
       "      <td>30000000</td>\n",
       "      <td>14460000</td>\n",
       "      <td>Winnie the Pooh</td>\n",
       "      <td>Jim Cummings|Travis Oates|Jim Cummings|Bud Luc...</td>\n",
       "      <td>Stephen Anderson|Don Hall</td>\n",
       "      <td>Oh Pooh.</td>\n",
       "      <td>During an ordinary day in Hundred Acre Wood, W...</td>\n",
       "      <td>63</td>\n",
       "      <td>Animation|Family</td>\n",
       "      <td>Walt Disney Pictures|Walt Disney Animation Stu...</td>\n",
       "      <td>4/13/2011</td>\n",
       "      <td>6.8</td>\n",
       "      <td>2011</td>\n",
       "    </tr>\n",
       "  </tbody>\n",
       "</table>\n",
       "</div>"
      ],
      "text/plain": [
       "     Unnamed: 0    imdb_id    budget   revenue   original_title  \\\n",
       "768         768  tt1449283  30000000  14460000  Winnie the Pooh   \n",
       "\n",
       "                                                  cast  \\\n",
       "768  Jim Cummings|Travis Oates|Jim Cummings|Bud Luc...   \n",
       "\n",
       "                      director   tagline  \\\n",
       "768  Stephen Anderson|Don Hall  Oh Pooh.   \n",
       "\n",
       "                                              overview  runtime  \\\n",
       "768  During an ordinary day in Hundred Acre Wood, W...       63   \n",
       "\n",
       "               genres                               production_companies  \\\n",
       "768  Animation|Family  Walt Disney Pictures|Walt Disney Animation Stu...   \n",
       "\n",
       "    release_date  vote_average  release_year  \n",
       "768    4/13/2011           6.8          2011  "
      ]
     },
     "execution_count": 119,
     "metadata": {},
     "output_type": "execute_result"
    }
   ],
   "source": [
    "import pandas as pd\n",
    "'''Короткий фильм в мин.'''\n",
    "runtime_min = data[data.runtime == data.runtime.min()]\n",
    "runtime_min[['original_title', 'runtime']]\n",
    "runtime_min\n"
   ]
  },
  {
   "cell_type": "code",
   "execution_count": null,
   "metadata": {},
   "outputs": [],
   "source": [
    "answers['3'] = 'Winnie the Pooh' \n",
    "answers['3']"
   ]
  },
  {
   "cell_type": "markdown",
   "metadata": {
    "colab_type": "text",
    "id": "TfQbxbfNVp-p"
   },
   "source": [
    "# 4. Какова средняя длительность фильмов?\n"
   ]
  },
  {
   "cell_type": "code",
   "execution_count": 120,
   "metadata": {
    "colab": {},
    "colab_type": "code",
    "id": "5K6dKZYVVp-q"
   },
   "outputs": [
    {
     "data": {
      "text/plain": [
       "110"
      ]
     },
     "execution_count": 120,
     "metadata": {},
     "output_type": "execute_result"
    }
   ],
   "source": [
    "import pandas as pd\n",
    "'''Средная длина фильма'''\n",
    "runtime_mean = data.runtime.mean()\n",
    "round(runtime_mean)\n"
   ]
  },
  {
   "cell_type": "code",
   "execution_count": 19,
   "metadata": {},
   "outputs": [
    {
     "data": {
      "text/plain": [
       "'110'"
      ]
     },
     "execution_count": 19,
     "metadata": {},
     "output_type": "execute_result"
    }
   ],
   "source": [
    "answers['4'] = '110'\n",
    "answers['4']"
   ]
  },
  {
   "cell_type": "markdown",
   "metadata": {
    "colab_type": "text",
    "id": "r5TvbnT_Vp-u"
   },
   "source": [
    "# 5. Каково медианное значение длительности фильмов? "
   ]
  },
  {
   "cell_type": "code",
   "execution_count": 121,
   "metadata": {
    "colab": {},
    "colab_type": "code",
    "id": "iBROplKnVp-v"
   },
   "outputs": [
    {
     "data": {
      "text/plain": [
       "107.0"
      ]
     },
     "execution_count": 121,
     "metadata": {},
     "output_type": "execute_result"
    }
   ],
   "source": [
    "'''Медианная длина фильма'''\n",
    "runtime_median = data.runtime.median()\n",
    "runtime_median\n"
   ]
  },
  {
   "cell_type": "code",
   "execution_count": 24,
   "metadata": {},
   "outputs": [
    {
     "data": {
      "text/plain": [
       "'107'"
      ]
     },
     "execution_count": 24,
     "metadata": {},
     "output_type": "execute_result"
    }
   ],
   "source": [
    "answers['5'] = '107'\n",
    "answers['5']"
   ]
  },
  {
   "cell_type": "markdown",
   "metadata": {
    "colab_type": "text",
    "id": "39P-deDSVp-y"
   },
   "source": [
    "# 6. Какой самый прибыльный фильм?\n",
    "#### Внимание! Здесь и далее под «прибылью» или «убытками» понимается разность между сборами и бюджетом фильма. (прибыль = сборы - бюджет) в нашем датасете это будет (profit = revenue - budget) "
   ]
  },
  {
   "cell_type": "code",
   "execution_count": 122,
   "metadata": {
    "colab": {},
    "colab_type": "code",
    "id": "UYZh4T9WVp-y"
   },
   "outputs": [
    {
     "data": {
      "text/html": [
       "<div>\n",
       "<style scoped>\n",
       "    .dataframe tbody tr th:only-of-type {\n",
       "        vertical-align: middle;\n",
       "    }\n",
       "\n",
       "    .dataframe tbody tr th {\n",
       "        vertical-align: top;\n",
       "    }\n",
       "\n",
       "    .dataframe thead th {\n",
       "        text-align: right;\n",
       "    }\n",
       "</style>\n",
       "<table border=\"1\" class=\"dataframe\">\n",
       "  <thead>\n",
       "    <tr style=\"text-align: right;\">\n",
       "      <th></th>\n",
       "      <th>original_title</th>\n",
       "      <th>profit</th>\n",
       "    </tr>\n",
       "  </thead>\n",
       "  <tbody>\n",
       "    <tr>\n",
       "      <th>239</th>\n",
       "      <td>Avatar</td>\n",
       "      <td>2544505847</td>\n",
       "    </tr>\n",
       "  </tbody>\n",
       "</table>\n",
       "</div>"
      ],
      "text/plain": [
       "    original_title      profit\n",
       "239         Avatar  2544505847"
      ]
     },
     "execution_count": 122,
     "metadata": {},
     "output_type": "execute_result"
    }
   ],
   "source": [
    "# лучше код получения столбца profit вынести в Предобработку что в начале\n",
    "'''Формула для нахождения прибыли'''\n",
    "data['profit'] = data.revenue - data.budget\n",
    "profit = data[['original_title', 'profit']]\n",
    "'''Самый прибыльный фильм'''\n",
    "profit = profit.sort_values('profit', ascending=False).head(1)\n",
    "profit\n"
   ]
  },
  {
   "cell_type": "code",
   "execution_count": 26,
   "metadata": {},
   "outputs": [
    {
     "data": {
      "text/plain": [
       "'Avatar'"
      ]
     },
     "execution_count": 26,
     "metadata": {},
     "output_type": "execute_result"
    }
   ],
   "source": [
    "answers['6'] = 'Avatar'\n",
    "answers['6']"
   ]
  },
  {
   "cell_type": "markdown",
   "metadata": {
    "colab_type": "text",
    "id": "M99JmIX4Vp-2"
   },
   "source": [
    "# 7. Какой фильм самый убыточный? "
   ]
  },
  {
   "cell_type": "code",
   "execution_count": 123,
   "metadata": {
    "colab": {},
    "colab_type": "code",
    "id": "w-D2m4XPVp-3"
   },
   "outputs": [
    {
     "data": {
      "text/html": [
       "<div>\n",
       "<style scoped>\n",
       "    .dataframe tbody tr th:only-of-type {\n",
       "        vertical-align: middle;\n",
       "    }\n",
       "\n",
       "    .dataframe tbody tr th {\n",
       "        vertical-align: top;\n",
       "    }\n",
       "\n",
       "    .dataframe thead th {\n",
       "        text-align: right;\n",
       "    }\n",
       "</style>\n",
       "<table border=\"1\" class=\"dataframe\">\n",
       "  <thead>\n",
       "    <tr style=\"text-align: right;\">\n",
       "      <th></th>\n",
       "      <th>original_title</th>\n",
       "      <th>profit</th>\n",
       "    </tr>\n",
       "  </thead>\n",
       "  <tbody>\n",
       "    <tr>\n",
       "      <th>1245</th>\n",
       "      <td>The Lone Ranger</td>\n",
       "      <td>-165710090</td>\n",
       "    </tr>\n",
       "  </tbody>\n",
       "</table>\n",
       "</div>"
      ],
      "text/plain": [
       "       original_title     profit\n",
       "1245  The Lone Ranger -165710090"
      ]
     },
     "execution_count": 123,
     "metadata": {},
     "output_type": "execute_result"
    }
   ],
   "source": [
    "profit = data[['original_title', 'profit']]\n",
    "'''Самый убыточный фильм'''\n",
    "profit = profit.sort_values('profit', ascending=False)\n",
    "profit = profit.tail(1)\n",
    "profit\n"
   ]
  },
  {
   "cell_type": "code",
   "execution_count": 34,
   "metadata": {},
   "outputs": [
    {
     "data": {
      "text/plain": [
       "'The Lone Ranger'"
      ]
     },
     "execution_count": 34,
     "metadata": {},
     "output_type": "execute_result"
    }
   ],
   "source": [
    "answers['7'] = 'The Lone Ranger'\n",
    "answers['7']"
   ]
  },
  {
   "cell_type": "markdown",
   "metadata": {
    "colab_type": "text",
    "id": "wEOM5ERVVp-6"
   },
   "source": [
    "# 8. У скольких фильмов из датасета объем сборов оказался выше бюджета?"
   ]
  },
  {
   "cell_type": "code",
   "execution_count": 126,
   "metadata": {
    "colab": {},
    "colab_type": "code",
    "id": "y00_7HD6Vp-7"
   },
   "outputs": [
    {
     "data": {
      "text/plain": [
       "1478"
      ]
     },
     "execution_count": 126,
     "metadata": {},
     "output_type": "execute_result"
    }
   ],
   "source": [
    "import pandas as pd\n",
    "data = pd.read_csv('movie_bd_v5.csv')\n",
    "'''Кол-во фильмов,где сборы выше бюджета'''\n",
    "revenue_max_budget = data[['original_title', 'revenue', 'budget']]\n",
    "revenue_max_budget = revenue_max_budget.query('revenue > budget')\n",
    "len(revenue_max_budget)\n"
   ]
  },
  {
   "cell_type": "code",
   "execution_count": 38,
   "metadata": {},
   "outputs": [
    {
     "data": {
      "text/plain": [
       "'1478'"
      ]
     },
     "execution_count": 38,
     "metadata": {},
     "output_type": "execute_result"
    }
   ],
   "source": [
    "answers['8'] = '1478'\n",
    "answers['8']"
   ]
  },
  {
   "cell_type": "markdown",
   "metadata": {
    "colab_type": "text",
    "id": "xhpspA9KVp_A"
   },
   "source": [
    "# 9. Какой фильм оказался самым кассовым в 2008 году?"
   ]
  },
  {
   "cell_type": "code",
   "execution_count": 127,
   "metadata": {
    "colab": {},
    "colab_type": "code",
    "id": "MoUyQr9RVp_B"
   },
   "outputs": [
    {
     "data": {
      "text/html": [
       "<div>\n",
       "<style scoped>\n",
       "    .dataframe tbody tr th:only-of-type {\n",
       "        vertical-align: middle;\n",
       "    }\n",
       "\n",
       "    .dataframe tbody tr th {\n",
       "        vertical-align: top;\n",
       "    }\n",
       "\n",
       "    .dataframe thead th {\n",
       "        text-align: right;\n",
       "    }\n",
       "</style>\n",
       "<table border=\"1\" class=\"dataframe\">\n",
       "  <thead>\n",
       "    <tr style=\"text-align: right;\">\n",
       "      <th></th>\n",
       "      <th>original_title</th>\n",
       "      <th>revenue</th>\n",
       "    </tr>\n",
       "  </thead>\n",
       "  <tbody>\n",
       "    <tr>\n",
       "      <th>599</th>\n",
       "      <td>The Dark Knight</td>\n",
       "      <td>1001921825</td>\n",
       "    </tr>\n",
       "  </tbody>\n",
       "</table>\n",
       "</div>"
      ],
      "text/plain": [
       "      original_title     revenue\n",
       "599  The Dark Knight  1001921825"
      ]
     },
     "execution_count": 127,
     "metadata": {},
     "output_type": "execute_result"
    }
   ],
   "source": [
    "'''Фильмы за 2008 год'''\n",
    "revenue = data.query('release_year == 2008')\n",
    "'''Самый касовый фильм'''\n",
    "revenue = revenue.sort_values('revenue', ascending=False)\n",
    "revenue[['original_title', 'revenue']].head(1)\n"
   ]
  },
  {
   "cell_type": "code",
   "execution_count": 42,
   "metadata": {},
   "outputs": [
    {
     "data": {
      "text/plain": [
       "'The Dark Knight'"
      ]
     },
     "execution_count": 42,
     "metadata": {},
     "output_type": "execute_result"
    }
   ],
   "source": [
    "answers['9'] = 'The Dark Knight'\n",
    "answers['9']"
   ]
  },
  {
   "cell_type": "markdown",
   "metadata": {
    "colab_type": "text",
    "id": "Zi4hDKidVp_F"
   },
   "source": [
    "# 10. Самый убыточный фильм за период с 2012 по 2014 г. (включительно)?\n"
   ]
  },
  {
   "cell_type": "code",
   "execution_count": 128,
   "metadata": {
    "colab": {},
    "colab_type": "code",
    "id": "XqyRmufJVp_F"
   },
   "outputs": [
    {
     "name": "stdout",
     "output_type": "stream",
     "text": [
      "       original_title     profit\n",
      "1245  The Lone Ranger -165710090\n"
     ]
    }
   ],
   "source": [
    "'''Формула для нахождение прибыли'''\n",
    "data['profit'] = data.revenue - data.budget\n",
    "'''Фильмы с 2012 по 2014'''\n",
    "profit = data.query('2012 <= release_year <= 2014')\n",
    "'''Самый убыточный фильм в этих годах'''\n",
    "profit = profit.sort_values('profit')[['original_title', 'profit']]\n",
    "print(profit.head(1))\n"
   ]
  },
  {
   "cell_type": "code",
   "execution_count": 45,
   "metadata": {},
   "outputs": [
    {
     "data": {
      "text/plain": [
       "'The Lone Ranger'"
      ]
     },
     "execution_count": 45,
     "metadata": {},
     "output_type": "execute_result"
    }
   ],
   "source": [
    "answers['10'] = 'The Lone Ranger'\n",
    "answers['10']"
   ]
  },
  {
   "cell_type": "markdown",
   "metadata": {
    "colab_type": "text",
    "id": "EA7Sa9dkVp_I"
   },
   "source": [
    "# 11. Какого жанра фильмов больше всего?"
   ]
  },
  {
   "cell_type": "code",
   "execution_count": 129,
   "metadata": {
    "colab": {},
    "colab_type": "code",
    "id": "zsJAwJ8QVp_J"
   },
   "outputs": [
    {
     "name": "stdout",
     "output_type": "stream",
     "text": [
      "Genres\n",
      "Drama     782\n",
      "dtype: int64\n"
     ]
    }
   ],
   "source": [
    "import pandas as pd\n",
    "'''Случайно забыл исправить ответ в тесте 1.3''' \n",
    "'''добавьте балл в тесте,если правильно.'''\n",
    "data = pd.read_csv('movie_bd_v5.csv')\n",
    "'''Фильм имеющий несколько жанров распределяется на список'''\n",
    "data = data[['genres']].genres.str.split('|')\n",
    "genres = list()\n",
    "'''Элементы каждых списков помещается в один список'''\n",
    "for index1 in data:\n",
    "    for index2 in index1:\n",
    "        genres.append(index2)\n",
    "'''Самый частый жанр из DataFrame'''\n",
    "genres = pd.DataFrame({'Genres': genres})\n",
    "print(genres.value_counts().head(1))\n"
   ]
  },
  {
   "cell_type": "code",
   "execution_count": 49,
   "metadata": {},
   "outputs": [
    {
     "data": {
      "text/plain": [
       "'Drama'"
      ]
     },
     "execution_count": 49,
     "metadata": {},
     "output_type": "execute_result"
    }
   ],
   "source": [
    "answers['11'] = 'Drama'\n",
    "answers['11']"
   ]
  },
  {
   "cell_type": "markdown",
   "metadata": {
    "colab_type": "text",
    "id": "Ax6g2C8SVp_M"
   },
   "source": [
    "ВАРИАНТ 2"
   ]
  },
  {
   "cell_type": "code",
   "execution_count": 0,
   "metadata": {
    "colab": {},
    "colab_type": "code",
    "id": "otO3SbrSVp_N"
   },
   "outputs": [],
   "source": []
  },
  {
   "cell_type": "markdown",
   "metadata": {
    "colab_type": "text",
    "id": "T9_bPWpkVp_Q"
   },
   "source": [
    "# 12. Фильмы какого жанра чаще всего становятся прибыльными? "
   ]
  },
  {
   "cell_type": "code",
   "execution_count": 130,
   "metadata": {
    "colab": {},
    "colab_type": "code",
    "id": "Tmt8MaK1Vp_R"
   },
   "outputs": [
    {
     "name": "stdout",
     "output_type": "stream",
     "text": [
      "       0\n",
      "0  Drama\n"
     ]
    }
   ],
   "source": [
    "import pandas as pd\n",
    "data = pd.read_csv('movie_bd_v5.csv')\n",
    "'''Формула для нахождение прибыли'''\n",
    "data['profit'] = data.revenue - data.budget\n",
    "'''Сортируем данные где прибыль не отрицательна'''\n",
    "profit = data[data.profit > 0][['genres', 'profit']]\n",
    "'''Сортируем список по убыванию прибыли'''\n",
    "profit = profit.sort_values('profit', ascending=False)\n",
    "list_profit = list()\n",
    "'''Способ позволяющий найти фильм имеющий один жанр'''\n",
    "for index1 in profit.genres:\n",
    "    if len(index1.split('|')) == 1:\n",
    "        list_profit.append(index1)\n",
    "'''Самый прибыльный жанр'''\n",
    "profit = pd.DataFrame(list_profit)\n",
    "print(profit.head(1))\n"
   ]
  },
  {
   "cell_type": "code",
   "execution_count": 54,
   "metadata": {},
   "outputs": [
    {
     "data": {
      "text/plain": [
       "'Drama'"
      ]
     },
     "execution_count": 54,
     "metadata": {},
     "output_type": "execute_result"
    }
   ],
   "source": [
    "answers['12'] = 'Drama'\n",
    "answers['12']"
   ]
  },
  {
   "cell_type": "markdown",
   "metadata": {
    "colab_type": "text",
    "id": "0F23bgsDVp_U"
   },
   "source": [
    "# 13. У какого режиссера самые большие суммарные кассовые сборы?"
   ]
  },
  {
   "cell_type": "code",
   "execution_count": 131,
   "metadata": {
    "colab": {},
    "colab_type": "code",
    "id": "K6Z3J8ygVp_X"
   },
   "outputs": [
    {
     "name": "stdout",
     "output_type": "stream",
     "text": [
      "director\n",
      "Peter Jackson    6490593685\n",
      "Name: revenue, dtype: int64\n"
     ]
    }
   ],
   "source": [
    "import pandas as pd\n",
    "data = pd.read_csv('movie_bd_v5.csv')\n",
    "director = data[['director', 'revenue']]\n",
    "'''Сумирование сборов каждого режисера'''\n",
    "data = director.groupby('director')['revenue'].sum()\n",
    "'''Самый большая сумма в сборах'''\n",
    "print(data.sort_values(ascending=False).head(1))\n"
   ]
  },
  {
   "cell_type": "code",
   "execution_count": null,
   "metadata": {},
   "outputs": [],
   "source": [
    "answers['13'] = 'Peter Jackson'\n",
    "answers['13']"
   ]
  },
  {
   "cell_type": "markdown",
   "metadata": {
    "colab_type": "text",
    "id": "PsYC9FgRVp_a"
   },
   "source": [
    "# 14. Какой режисер снял больше всего фильмов в стиле Action?"
   ]
  },
  {
   "cell_type": "code",
   "execution_count": 132,
   "metadata": {
    "colab": {},
    "colab_type": "code",
    "id": "wd2M-wHeVp_b"
   },
   "outputs": [
    {
     "name": "stdout",
     "output_type": "stream",
     "text": [
      "Robert Rodriguez    9\n",
      "dtype: int64\n"
     ]
    }
   ],
   "source": [
    "import pandas as pd\n",
    "data = pd.read_csv('movie_bd_v5.csv')\n",
    "'''Сортировка фильмов с жанром экшен'''\n",
    "data = data[data.genres.str.contains('Action')]\n",
    "data.director = data.director.str.split('|')\n",
    "director = list()\n",
    "'''Элементы каждых списков помещается в один список'''\n",
    "for index1 in data.director:\n",
    "    for index2 in index1:\n",
    "        director.append(index2)\n",
    "'''Режисер снявший много фильмов'''\n",
    "director = pd.DataFrame(director)\n",
    "print(director.value_counts().head(1))\n"
   ]
  },
  {
   "cell_type": "code",
   "execution_count": 17,
   "metadata": {},
   "outputs": [
    {
     "data": {
      "text/plain": [
       "'Robert Rodriguez'"
      ]
     },
     "execution_count": 17,
     "metadata": {},
     "output_type": "execute_result"
    }
   ],
   "source": [
    "answers['14'] = 'Robert Rodriguez'\n",
    "answers['14']"
   ]
  },
  {
   "cell_type": "markdown",
   "metadata": {
    "colab_type": "text",
    "id": "PQ0KciD7Vp_f"
   },
   "source": [
    "# 15. Фильмы с каким актером принесли самые высокие кассовые сборы в 2012 году? "
   ]
  },
  {
   "cell_type": "code",
   "execution_count": 133,
   "metadata": {
    "colab": {},
    "colab_type": "code",
    "id": "aga62oeKVp_g"
   },
   "outputs": [
    {
     "name": "stdout",
     "output_type": "stream",
     "text": [
      "cast    Chris Hemsworth\n",
      "Name: 3, dtype: object\n"
     ]
    }
   ],
   "source": [
    "import pandas as pd\n",
    "data = pd.read_csv('movie_bd_v5.csv')\n",
    "'''Сортировка по 2012 году'''\n",
    "data = data[data.release_year == 2012][['cast', 'revenue']]\n",
    "data = data.sort_values('revenue', ascending=False).head(1)\n",
    "data.cast = data.cast.str.split('|')\n",
    "cast = list()\n",
    "'''Элементы каждых списков помещается в один список'''\n",
    "for index1 in data.cast:\n",
    "    for index2 in index1:\n",
    "        cast.append(index2)\n",
    "'''Актир который принес самые касовые сборы'''\n",
    "cast = pd.DataFrame({'cast': cast})\n",
    "print(cast.loc[3])\n"
   ]
  },
  {
   "cell_type": "code",
   "execution_count": 15,
   "metadata": {},
   "outputs": [
    {
     "data": {
      "text/plain": [
       "'Chris Hemsworth'"
      ]
     },
     "execution_count": 15,
     "metadata": {},
     "output_type": "execute_result"
    }
   ],
   "source": [
    "answers['15'] = 'Chris Hemsworth'\n",
    "answers['15']"
   ]
  },
  {
   "cell_type": "markdown",
   "metadata": {
    "colab_type": "text",
    "id": "mWHyyL7QVp_j"
   },
   "source": [
    "# 16. Какой актер снялся в большем количестве высокобюджетных фильмов?"
   ]
  },
  {
   "cell_type": "code",
   "execution_count": 134,
   "metadata": {
    "colab": {},
    "colab_type": "code",
    "id": "qQtmHKTFVp_k"
   },
   "outputs": [
    {
     "name": "stdout",
     "output_type": "stream",
     "text": [
      "Cast      \n",
      "Matt Damon    22\n",
      "dtype: int64\n"
     ]
    }
   ],
   "source": [
    "import pandas as pd\n",
    "data = pd.read_csv('movie_bd_v5.csv')\n",
    "'''Сортировка высокобюджетных фильмов'''\n",
    "data = data.query('budget > budget.median()')\n",
    "data.cast = data.cast.str.split('|')\n",
    "cast = list()\n",
    "'''Элементы каждых списков помещается в один список'''\n",
    "for index1 in data.cast:\n",
    "    for index2 in index1:\n",
    "        cast.append(index2)\n",
    "'''Актер,который снялся в большом кол-ве таких фильмов'''\n",
    "cast = pd.DataFrame({'Cast': cast})\n",
    "print(cast.value_counts().head(1))\n"
   ]
  },
  {
   "cell_type": "code",
   "execution_count": 19,
   "metadata": {},
   "outputs": [
    {
     "data": {
      "text/plain": [
       "'Matt Damon'"
      ]
     },
     "execution_count": 19,
     "metadata": {},
     "output_type": "execute_result"
    }
   ],
   "source": [
    "answers['16'] = 'Matt Damon'\n",
    "answers['16']"
   ]
  },
  {
   "cell_type": "markdown",
   "metadata": {
    "colab_type": "text",
    "id": "NIh6AaW5Vp_n"
   },
   "source": [
    "# 17. В фильмах какого жанра больше всего снимался Nicolas Cage? "
   ]
  },
  {
   "cell_type": "code",
   "execution_count": 135,
   "metadata": {
    "colab": {},
    "colab_type": "code",
    "id": "H74SJDIBVp_n"
   },
   "outputs": [
    {
     "name": "stdout",
     "output_type": "stream",
     "text": [
      "Genres\n",
      "Action    17\n",
      "dtype: int64\n"
     ]
    }
   ],
   "source": [
    "import pandas as pd\n",
    "data = pd.read_csv('movie_bd_v5.csv')\n",
    "'''DataFrame имеющий данные,только с Nicolas Cage'''\n",
    "data = data[data.cast.str.contains('Nicolas Cage')]\n",
    "data.genres = data.genres.str.split('|')\n",
    "genres = list()\n",
    "'''Элементы каждых списков помещается в один список'''\n",
    "for index1 in data.genres:\n",
    "    for index2 in index1:\n",
    "        genres.append(index2)\n",
    "'''Самый постоянный жанр где он снимался'''\n",
    "genres = pd.DataFrame({'Genres': genres})\n",
    "print(genres.value_counts().head(1))\n"
   ]
  },
  {
   "cell_type": "code",
   "execution_count": 21,
   "metadata": {},
   "outputs": [
    {
     "data": {
      "text/plain": [
       "'Action'"
      ]
     },
     "execution_count": 21,
     "metadata": {},
     "output_type": "execute_result"
    }
   ],
   "source": [
    "answers['17'] = 'Action'\n",
    "answers['17']"
   ]
  },
  {
   "cell_type": "markdown",
   "metadata": {
    "colab_type": "text",
    "id": "RqOmPRfWVp_q"
   },
   "source": [
    "# 18. Самый убыточный фильм от Paramount Pictures"
   ]
  },
  {
   "cell_type": "code",
   "execution_count": 136,
   "metadata": {
    "colab": {},
    "colab_type": "code",
    "id": "9E_B0Y96Vp_r"
   },
   "outputs": [
    {
     "name": "stdout",
     "output_type": "stream",
     "text": [
      "           original_title    profit\n",
      "925  K-19: The Widowmaker -64831034\n"
     ]
    }
   ],
   "source": [
    "import pandas as pd\n",
    "data = pd.read_csv('movie_bd_v5.csv')\n",
    "'''Формула для нахождения прибыли'''\n",
    "data['profit'] = data.revenue - data.budget\n",
    "'''Сортирока данных только по компании Paramount Pictures'''\n",
    "companies = data[data.production_companies.str.contains('Paramount Pictures')]\n",
    "'''Самый убыточный фильм'''\n",
    "companies = companies.sort_values('profit').head(1)\n",
    "print(companies[['original_title', 'profit']])\n"
   ]
  },
  {
   "cell_type": "code",
   "execution_count": 23,
   "metadata": {},
   "outputs": [
    {
     "data": {
      "text/plain": [
       "'K-19: The Widowmaker'"
      ]
     },
     "execution_count": 23,
     "metadata": {},
     "output_type": "execute_result"
    }
   ],
   "source": [
    "answers['18'] = 'K-19: The Widowmaker'\n",
    "answers['18']"
   ]
  },
  {
   "cell_type": "markdown",
   "metadata": {
    "colab_type": "text",
    "id": "vS8Ur6ddVp_u"
   },
   "source": [
    "# 19. Какой год стал самым успешным по суммарным кассовым сборам?"
   ]
  },
  {
   "cell_type": "code",
   "execution_count": 137,
   "metadata": {
    "colab": {},
    "colab_type": "code",
    "id": "Dnbt4GdIVp_v"
   },
   "outputs": [
    {
     "name": "stdout",
     "output_type": "stream",
     "text": [
      "release_year\n",
      "2015    25449202382\n",
      "Name: revenue, dtype: int64\n"
     ]
    }
   ],
   "source": [
    "'''Самый успешный год по кассовым сборам'''\n",
    "revenue = data.groupby('release_year')['revenue'].sum()\n",
    "print(revenue.sort_values(ascending=False).head(1))\n"
   ]
  },
  {
   "cell_type": "code",
   "execution_count": 25,
   "metadata": {},
   "outputs": [
    {
     "data": {
      "text/plain": [
       "'2015'"
      ]
     },
     "execution_count": 25,
     "metadata": {},
     "output_type": "execute_result"
    }
   ],
   "source": [
    "answers['19'] = '2015'\n",
    "answers['19']"
   ]
  },
  {
   "cell_type": "markdown",
   "metadata": {
    "colab_type": "text",
    "id": "JAzJh4QAVp_z"
   },
   "source": [
    "# 20. Какой самый прибыльный год для студии Warner Bros?"
   ]
  },
  {
   "cell_type": "code",
   "execution_count": 138,
   "metadata": {
    "colab": {},
    "colab_type": "code",
    "id": "wgVu02DEVp_0"
   },
   "outputs": [
    {
     "name": "stdout",
     "output_type": "stream",
     "text": [
      "release_year\n",
      "2014    2295464519\n",
      "Name: profit, dtype: int64\n"
     ]
    }
   ],
   "source": [
    "'''Формула для нахождения прибыли'''\n",
    "data['profit'] = data.revenue - data.budget\n",
    "'''Самый прибыльный фильм у Warner Bros'''\n",
    "revenue = data[data.production_companies.str.contains('Warner Bros')]\n",
    "revenue = revenue.groupby('release_year')['profit'].sum()\n",
    "print(revenue.sort_values(ascending=False).head(1))\n"
   ]
  },
  {
   "cell_type": "code",
   "execution_count": 27,
   "metadata": {},
   "outputs": [
    {
     "data": {
      "text/plain": [
       "'2014'"
      ]
     },
     "execution_count": 27,
     "metadata": {},
     "output_type": "execute_result"
    }
   ],
   "source": [
    "answers['20'] = '2014'\n",
    "answers['20']"
   ]
  },
  {
   "cell_type": "markdown",
   "metadata": {
    "colab_type": "text",
    "id": "8Im1S2HRVp_4"
   },
   "source": [
    "# 21. В каком месяце за все годы суммарно вышло больше всего фильмов?"
   ]
  },
  {
   "cell_type": "code",
   "execution_count": 141,
   "metadata": {
    "colab": {},
    "colab_type": "code",
    "id": "lev6TH7gVp_4"
   },
   "outputs": [
    {
     "name": "stdout",
     "output_type": "stream",
     "text": [
      "release_month\n",
      "9                227\n",
      "dtype: int64\n"
     ]
    }
   ],
   "source": [
    "import pandas as pd\n",
    "data = pd.read_csv('movie_bd_v5.csv')\n",
    "'''Дата деня, месяца, года помещаются в один список'''\n",
    "data.release_date = data.release_date.str.split('/')\n",
    "'''Все данные становятся данными одного списка'''\n",
    "release_month = list()\n",
    "for index1 in data.release_date:\n",
    "    for index2 in index1:\n",
    "        release_month.append(index2)\n",
    "'''Помещение списка в DataFrame и сортировка только месяца'''\n",
    "'''Вывод самого частого месяца по съемкам'''\n",
    "release_month = pd.DataFrame({'release_month': release_month})\n",
    "print(release_month[::3].value_counts().head(1))\n"
   ]
  },
  {
   "cell_type": "code",
   "execution_count": 29,
   "metadata": {},
   "outputs": [
    {
     "data": {
      "text/plain": [
       "'сентябрь'"
      ]
     },
     "execution_count": 29,
     "metadata": {},
     "output_type": "execute_result"
    }
   ],
   "source": [
    "answers['21'] = 'сентябрь'\n",
    "answers['21']"
   ]
  },
  {
   "cell_type": "markdown",
   "metadata": {
    "colab_type": "text",
    "id": "uAJsZ_NeVp_7"
   },
   "source": [
    "# 22. Сколько суммарно вышло фильмов летом? (за июнь, июль, август)"
   ]
  },
  {
   "cell_type": "code",
   "execution_count": 151,
   "metadata": {
    "colab": {},
    "colab_type": "code",
    "id": "Aa-hEREoVp_8"
   },
   "outputs": [
    {
     "name": "stdout",
     "output_type": "stream",
     "text": [
      "450\n"
     ]
    }
   ],
   "source": [
    "import pandas as pd\n",
    "data = pd.read_csv('movie_bd_v5.csv')\n",
    "'''Дата деня, месяца, года помещаются в один список'''\n",
    "data.release_date = data.release_date.str.split('/')\n",
    "'''Все данные становятся данными одного списка'''\n",
    "release_month = list()\n",
    "for index1 in data.release_date:\n",
    "    for index2 in index1:\n",
    "            release_month.append(index2)\n",
    "'''Помещение списка в DataFrame и сортировка только месяца'''\n",
    "'''Суммарное кол-во фильмов летом'''\n",
    "release_month = pd.DataFrame({'release_month': release_month})\n",
    "release_month = release_month[::3].value_counts()\n",
    "release_month = release_month[3:9]\n",
    "print(release_month[0::3].sum() + release_month[5])\n"
   ]
  },
  {
   "cell_type": "code",
   "execution_count": 37,
   "metadata": {},
   "outputs": [
    {
     "data": {
      "text/plain": [
       "'450'"
      ]
     },
     "execution_count": 37,
     "metadata": {},
     "output_type": "execute_result"
    }
   ],
   "source": [
    "answers['22'] = '450'\n",
    "answers['22']"
   ]
  },
  {
   "cell_type": "markdown",
   "metadata": {
    "colab_type": "text",
    "id": "G94ppOY1VqAA"
   },
   "source": [
    "# 23. Для какого режиссера зима – самое продуктивное время года? "
   ]
  },
  {
   "cell_type": "code",
   "execution_count": 155,
   "metadata": {
    "colab": {},
    "colab_type": "code",
    "id": "RhNTsamuVqAB"
   },
   "outputs": [
    {
     "name": "stdout",
     "output_type": "stream",
     "text": [
      "director       release_month\n",
      "Peter Jackson  12               7\n",
      "dtype: int64\n"
     ]
    }
   ],
   "source": [
    "from datetime import datetime\n",
    "import pandas as pd\n",
    "data = pd.read_csv('movie_bd_v5.csv')\n",
    "directors = data[['director', 'release_date']]\n",
    "release_date_list = list(directors.release_date)\n",
    "directors_list = list()\n",
    "'''Способ позволяющий отфильтровать месяца'''\n",
    "mounth = '1 2 3 4 5 6 7 8 9 10 11 12'.split()\n",
    "for i in release_date_list:\n",
    "\n",
    "    if datetime.strptime(i, \"%m/%d/%Y\").month == int(mounth[0]):\n",
    "        directors_list.append(datetime.strptime(i, \"%m/%d/%Y\").month)\n",
    "    elif datetime.strptime(i, \"%m/%d/%Y\").month == int(mounth[1]):\n",
    "        directors_list.append(datetime.strptime(i, \"%m/%d/%Y\").month)\n",
    "    elif datetime.strptime(i, \"%m/%d/%Y\").month == int(mounth[2]):\n",
    "        directors_list.append(datetime.strptime(i, \"%m/%d/%Y\").month)\n",
    "    elif datetime.strptime(i, \"%m/%d/%Y\").month == int(mounth[3]):\n",
    "        directors_list.append(datetime.strptime(i, \"%m/%d/%Y\").month)\n",
    "    elif datetime.strptime(i, \"%m/%d/%Y\").month == int(mounth[4]):\n",
    "        directors_list.append(datetime.strptime(i, \"%m/%d/%Y\").month)\n",
    "    elif datetime.strptime(i, \"%m/%d/%Y\").month == int(mounth[5]):\n",
    "        directors_list.append(datetime.strptime(i, \"%m/%d/%Y\").month)\n",
    "    elif datetime.strptime(i, \"%m/%d/%Y\").month == int(mounth[6]):\n",
    "        directors_list.append(datetime.strptime(i, \"%m/%d/%Y\").month)\n",
    "    elif datetime.strptime(i, \"%m/%d/%Y\").month == int(mounth[7]):\n",
    "        directors_list.append(datetime.strptime(i, \"%m/%d/%Y\").month)\n",
    "    elif datetime.strptime(i, \"%m/%d/%Y\").month == int(mounth[8]):\n",
    "        directors_list.append(datetime.strptime(i, \"%m/%d/%Y\").month)\n",
    "    elif datetime.strptime(i, \"%m/%d/%Y\").month == int(mounth[9]):\n",
    "        directors_list.append(datetime.strptime(i, \"%m/%d/%Y\").month)\n",
    "    elif datetime.strptime(i, \"%m/%d/%Y\").month == int(mounth[10]):\n",
    "        directors_list.append(datetime.strptime(i, \"%m/%d/%Y\").month)\n",
    "    elif datetime.strptime(i, \"%m/%d/%Y\").month == int(mounth[11]):\n",
    "        directors_list.append(datetime.strptime(i, \"%m/%d/%Y\").month)\n",
    "directors = directors.loc[:, ::2]\n",
    "directors['release_month'] = directors_list\n",
    "\n",
    "'''Режисер для кого зима самый продуктивное время года''' \n",
    "\n",
    "directors = directors.query('release_month == 12 or 1 <= release_month <= 2')\n",
    "print(directors.value_counts().head(1))\n"
   ]
  },
  {
   "cell_type": "code",
   "execution_count": 39,
   "metadata": {},
   "outputs": [
    {
     "data": {
      "text/plain": [
       "'Peter Jackson'"
      ]
     },
     "execution_count": 39,
     "metadata": {},
     "output_type": "execute_result"
    }
   ],
   "source": [
    "answers['23'] = 'Peter Jackson'\n",
    "answers['23']"
   ]
  },
  {
   "cell_type": "markdown",
   "metadata": {
    "colab_type": "text",
    "id": "RBo0JVjVVqAF"
   },
   "source": [
    "# 24. Какая студия дает самые длинные названия своим фильмам по количеству символов?"
   ]
  },
  {
   "cell_type": "code",
   "execution_count": 156,
   "metadata": {
    "colab": {},
    "colab_type": "code",
    "id": "QRGS8L0iVqAG"
   },
   "outputs": [
    {
     "name": "stdout",
     "output_type": "stream",
     "text": [
      "                                   production_companies  original_title_length\n",
      "1448  Twentieth Century Fox Film Corporation|Four By...                     83\n"
     ]
    }
   ],
   "source": [
    "original_title = list()\n",
    "data_movies = list(data.original_title)\n",
    "'''Способ позволяющий узнать сколько символов'''\n",
    "for i in data_movies:\n",
    "    original_title.append(len(i))\n",
    "data = data[['production_companies']]\n",
    "data['original_title_length'] = original_title\n",
    "'''Самый длинный фильм по символам'''\n",
    "print(data.sort_values('original_title_length', ascending=False).head(1))\n"
   ]
  },
  {
   "cell_type": "code",
   "execution_count": 41,
   "metadata": {},
   "outputs": [
    {
     "data": {
      "text/plain": [
       "'Twentieth Century Fox Film Corporation|Four By...'"
      ]
     },
     "execution_count": 41,
     "metadata": {},
     "output_type": "execute_result"
    }
   ],
   "source": [
    "answers['24'] = 'Twentieth Century Fox Film Corporation|Four By...'\n",
    "answers['24']"
   ]
  },
  {
   "cell_type": "markdown",
   "metadata": {
    "colab_type": "text",
    "id": "9G0hbvR7VqAK"
   },
   "source": [
    "# 25. Описание фильмов какой студии в среднем самые длинные по количеству слов?"
   ]
  },
  {
   "cell_type": "code",
   "execution_count": 158,
   "metadata": {
    "colab": {},
    "colab_type": "code",
    "id": "Ge2GsLNxVqAK"
   },
   "outputs": [
    {
     "name": "stdout",
     "output_type": "stream",
     "text": [
      "Midnight Picture Show\n"
     ]
    }
   ],
   "source": [
    "import pandas as pd\n",
    "data = pd.read_csv('movie_bd_v5.csv')\n",
    "overview = list()\n",
    "data_overview = list(data.overview)\n",
    "'''Способ позволяющий узнть сколько букв'''\n",
    "for i in data_overview:\n",
    "    overview.append(len(i.split(' ')))\n",
    "data = data[['production_companies']]\n",
    "data['overview_length'] = overview\n",
    "'''Сортировка где должна быть больше средний показатель'''\n",
    "data = data[data.overview_length >= data.overview_length.mean()]\n",
    "data = data.sort_values('overview_length', ascending=False).head(1)\n",
    "'''Компания которая подходит под варианты ответов'''\n",
    "for i in data.production_companies:\n",
    "    a = i.split('|')\n",
    "    print(a[3])\n"
   ]
  },
  {
   "cell_type": "code",
   "execution_count": 43,
   "metadata": {},
   "outputs": [
    {
     "data": {
      "text/plain": [
       "'Midnight Picture Show'"
      ]
     },
     "execution_count": 43,
     "metadata": {},
     "output_type": "execute_result"
    }
   ],
   "source": [
    "answers['25'] = 'Midnight Picture Show'\n",
    "answers['25']"
   ]
  },
  {
   "cell_type": "markdown",
   "metadata": {
    "colab_type": "text",
    "id": "FJ1AFt90VqAP"
   },
   "source": [
    "# 26. Какие фильмы входят в 1 процент лучших по рейтингу? \n",
    "по vote_average"
   ]
  },
  {
   "cell_type": "code",
   "execution_count": 161,
   "metadata": {
    "colab": {},
    "colab_type": "code",
    "id": "8qmJVq4CVqAQ"
   },
   "outputs": [
    {
     "name": "stdout",
     "output_type": "stream",
     "text": [
      "                                         original_title  vote_average\n",
      "599                                     The Dark Knight           8.1\n",
      "9                                            Inside Out           8.0\n",
      "34                                                 Room           8.0\n",
      "118                                        Interstellar           8.0\n",
      "125                                  The Imitation Game           8.0\n",
      "370                                           Inception           7.9\n",
      "1191                                   12 Years a Slave           7.9\n",
      "1183                            The Wolf of Wall Street           7.9\n",
      "1081      The Lord of the Rings: The Return of the King           7.9\n",
      "872                                         The Pianist           7.9\n",
      "1800                                            Memento           7.9\n",
      "119                             Guardians of the Galaxy           7.9\n",
      "138                            The Grand Budapest Hotel           7.9\n",
      "128                                           Gone Girl           7.9\n",
      "283                                          Mr. Nobody           7.8\n",
      "1688                                There Will Be Blood           7.8\n",
      "1563              Eternal Sunshine of the Spotless Mind           7.8\n",
      "1444                                       The Prestige           7.8\n",
      "1213                                 Dallas Buyers Club           7.8\n",
      "1205                                          Prisoners           7.8\n",
      "124                                          Big Hero 6           7.8\n",
      "1188                                                Her           7.8\n",
      "316                                            3 Idiots           7.8\n",
      "863               The Lord of the Rings: The Two Towers           7.8\n",
      "155                            The Theory of Everything           7.8\n",
      "28                                            Spotlight           7.8\n",
      "177                              The Fault in Our Stars           7.8\n",
      "496   The Lord of the Rings: The Fellowship of the Ring           7.8\n"
     ]
    }
   ],
   "source": [
    "import pandas as pd\n",
    "import numpy as np\n",
    "data = pd.read_csv('movie_bd_v5.csv')\n",
    "data_df = data['vote_average']\n",
    "'''Способ позволющий найти 1% лучших по рейтингу'''\n",
    "rate_99 = np.percentile(data_df, 99)\n",
    "df = data[data_df >= rate_99].sort_values('vote_average', ascending=False)\n",
    "print(df[['original_title', 'vote_average']])\n"
   ]
  },
  {
   "cell_type": "code",
   "execution_count": 46,
   "metadata": {},
   "outputs": [
    {
     "data": {
      "text/plain": [
       "'Inside Out, The Dark Knight, 12 Years a Slave'"
      ]
     },
     "execution_count": 46,
     "metadata": {},
     "output_type": "execute_result"
    }
   ],
   "source": [
    "answers['26'] = 'Inside Out, The Dark Knight, 12 Years a Slave'\n",
    "answers['26']"
   ]
  },
  {
   "cell_type": "markdown",
   "metadata": {
    "colab_type": "text",
    "id": "MdXsUXbCVqAV"
   },
   "source": [
    "# 27. Какие актеры чаще всего снимаются в одном фильме вместе?\n"
   ]
  },
  {
   "cell_type": "code",
   "execution_count": 169,
   "metadata": {
    "colab_type": "text",
    "id": "4ymnxEVoVqAW"
   },
   "outputs": [
    {
     "name": "stdout",
     "output_type": "stream",
     "text": [
      "Johnny Depp & Helena Bonham Carter: 6\n",
      "Ben Stiller & Owen Wilson: 6\n",
      "Vin Diesel & Paul Walker: 5\n",
      "Adam Sandler & Kevin James: 5\n",
      "Daniel Radcliff & Rupert Grint: 8\n"
     ]
    }
   ],
   "source": [
    "import pandas as pd\n",
    "import numpy as np\n",
    "'''Находим данные содержащие эти имена'''\n",
    "cast1 = data.cast.str.contains('Johnny Depp')\n",
    "cast2 = data.cast.str.contains('Helena Bonham Carter')\n",
    "cast3 = data.cast.str.contains('Ben Stiller')\n",
    "cast4 = data.cast.str.contains('Owen Wilson')\n",
    "cast5 = data.cast.str.contains('Vin Diesel')\n",
    "cast6 = data.cast.str.contains('Paul Walker')\n",
    "cast7 = data.cast.str.contains('Adam Sandler')\n",
    "cast8 = data.cast.str.contains('Kevin James')\n",
    "cast9 = data.cast.str.contains('Daniel Radcliffe')\n",
    "cast10 = data.cast.str.contains('Rupert Grint')\n",
    "'''Находим совпадений'''\n",
    "merge_1_2 = data[cast1].merge(data[cast2],on='cast',how='inner')\n",
    "merge_3_4 = data[cast3].merge(data[cast4],on='cast',how='inner')\n",
    "merge_5_6 = data[cast5].merge(data[cast6], on='cast', how='inner')\n",
    "merge_7_8 = data[cast7].merge(data[cast8], on='cast', how='inner')\n",
    "merge_9_10 = data[cast9].merge(data[cast10], on='cast', how='inner')\n",
    "'''Кол-во совпадений'''\n",
    "print('Johnny Depp & Helena Bonham Carter: ' + str(len(merge_1_2[['cast']])))\n",
    "print('Ben Stiller & Owen Wilson: ' + str(len(merge_3_4[['cast']])))\n",
    "print('Vin Diesel & Paul Walker: ' + str(len(merge_5_6[['cast']])))\n",
    "print('Adam Sandler & Kevin James: ' + str(len(merge_7_8[['cast']])))\n",
    "print('Daniel Radcliff & Rupert Grint: ' + str(len(merge_9_10[['cast']])))\n"
   ]
  },
  {
   "cell_type": "code",
   "execution_count": 163,
   "metadata": {},
   "outputs": [
    {
     "data": {
      "text/plain": [
       "'Daniel Radcliffe & Rupert Grint'"
      ]
     },
     "execution_count": 163,
     "metadata": {},
     "output_type": "execute_result"
    }
   ],
   "source": [
    "answers['27'] = 'Daniel Radcliffe & Rupert Grint'\n",
    "answers['27']"
   ]
  },
  {
   "cell_type": "markdown",
   "metadata": {
    "colab_type": "text",
    "id": "U0nONFnGVqAX"
   },
   "source": [
    "# Submission"
   ]
  },
  {
   "cell_type": "code",
   "execution_count": 0,
   "metadata": {
    "colab": {},
    "colab_type": "code",
    "id": "IfcaRO9-VqAX",
    "outputId": "0f132912-32bb-4196-c98c-abfbc4ad5a5f"
   },
   "outputs": [
    {
     "data": {
      "text/plain": [
       "{'1': '...', '2': '...'}"
      ]
     },
     "execution_count": 8,
     "metadata": {
      "tags": []
     },
     "output_type": "execute_result"
    }
   ],
   "source": [
    "# в конце можно посмотреть свои ответы к каждому вопросу\n",
    "answers"
   ]
  },
  {
   "cell_type": "code",
   "execution_count": 0,
   "metadata": {
    "colab": {},
    "colab_type": "code",
    "id": "SiRmHPl8VqAd"
   },
   "outputs": [],
   "source": [
    "# и убедиться что ни чего не пропустил)\n",
    "len(answers)"
   ]
  },
  {
   "cell_type": "code",
   "execution_count": 0,
   "metadata": {
    "colab": {},
    "colab_type": "code",
    "id": "uCfuTkRbVqAg"
   },
   "outputs": [],
   "source": []
  },
  {
   "cell_type": "code",
   "execution_count": 0,
   "metadata": {
    "colab": {},
    "colab_type": "code",
    "id": "Vwx3NrkSVqAl"
   },
   "outputs": [],
   "source": []
  }
 ],
 "metadata": {
  "colab": {
   "name": "Copy of [SF-DST] Movies IMBD v4.1 TEMPLATE.ipynb",
   "provenance": []
  },
  "kernelspec": {
   "display_name": "Python 3",
   "language": "python",
   "name": "python3"
  },
  "language_info": {
   "codemirror_mode": {
    "name": "ipython",
    "version": 3
   },
   "file_extension": ".py",
   "mimetype": "text/x-python",
   "name": "python",
   "nbconvert_exporter": "python",
   "pygments_lexer": "ipython3",
   "version": "3.8.8"
  }
 },
 "nbformat": 4,
 "nbformat_minor": 1
}

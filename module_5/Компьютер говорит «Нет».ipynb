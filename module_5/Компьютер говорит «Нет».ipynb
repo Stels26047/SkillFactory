{
 "cells": [
  {
   "cell_type": "code",
   "execution_count": 1,
   "id": "33d960a9",
   "metadata": {
    "_cell_guid": "b1076dfc-b9ad-4769-8c92-a6c4dae69d19",
    "_uuid": "8f2839f25d086af736a60e9eeb907d3b93b6e0e5",
    "execution": {
     "iopub.execute_input": "2022-01-26T21:03:15.205057Z",
     "iopub.status.busy": "2022-01-26T21:03:15.203985Z",
     "iopub.status.idle": "2022-01-26T21:03:15.216633Z",
     "shell.execute_reply": "2022-01-26T21:03:15.217066Z",
     "shell.execute_reply.started": "2021-12-04T22:02:07.999586Z"
    },
    "papermill": {
     "duration": 0.038059,
     "end_time": "2022-01-26T21:03:15.217336",
     "exception": false,
     "start_time": "2022-01-26T21:03:15.179277",
     "status": "completed"
    },
    "tags": []
   },
   "outputs": [],
   "source": [
    "# Импортируем необходимые библиотеки:\n",
    "from sklearn.linear_model import LogisticRegression # инструмент для создания и обучения модели\n",
    "from sklearn import metrics # инструменты для оценки точности модели\n",
    "import numpy as np # для математического вычисления\n",
    "import pandas as pd # для работы с БД\n",
    "from sklearn import preprocessing\n",
    "# Воспользуемся специальной функцие train_test_split для разбивки тестовых данных\n",
    "from sklearn.model_selection import train_test_split\n",
    "import matplotlib.pyplot as plt\n",
    "import seaborn as sns\n",
    "from sklearn.feature_selection import f_classif\n",
    "%matplotlib inline\n",
    "from sklearn.metrics import confusion_matrix,classification_report,roc_auc_score\n",
    "import warnings\n",
    "warnings.simplefilter(\"ignore\")"
   ]
  },
  {
   "cell_type": "markdown",
   "id": "b1d006a4",
   "metadata": {},
   "source": [
    "# Анализ данных"
   ]
  },
  {
   "cell_type": "code",
   "execution_count": 2,
   "id": "25fe6627",
   "metadata": {
    "execution": {
     "iopub.execute_input": "2022-01-26T21:03:15.259943Z",
     "iopub.status.busy": "2022-01-26T21:03:15.259263Z",
     "iopub.status.idle": "2022-01-26T21:03:15.550900Z",
     "shell.execute_reply": "2022-01-26T21:03:15.550462Z",
     "shell.execute_reply.started": "2021-12-04T22:02:08.02391Z"
    },
    "papermill": {
     "duration": 0.313585,
     "end_time": "2022-01-26T21:03:15.551028",
     "exception": false,
     "start_time": "2022-01-26T21:03:15.237443",
     "status": "completed"
    },
    "tags": []
   },
   "outputs": [],
   "source": [
    "df_train = pd.read_csv('train.csv')\n",
    "df_test = pd.read_csv('test.csv')"
   ]
  },
  {
   "cell_type": "code",
   "execution_count": 3,
   "id": "758324e0",
   "metadata": {
    "execution": {
     "iopub.execute_input": "2022-01-26T21:03:15.647975Z",
     "iopub.status.busy": "2022-01-26T21:03:15.645586Z",
     "iopub.status.idle": "2022-01-26T21:03:15.649756Z",
     "shell.execute_reply": "2022-01-26T21:03:15.650133Z",
     "shell.execute_reply.started": "2021-12-04T22:02:08.361719Z"
    },
    "papermill": {
     "duration": 0.026966,
     "end_time": "2022-01-26T21:03:15.650310",
     "exception": false,
     "start_time": "2022-01-26T21:03:15.623344",
     "status": "completed"
    },
    "tags": []
   },
   "outputs": [
    {
     "data": {
      "text/plain": [
       "(36349, 18)"
      ]
     },
     "execution_count": 3,
     "metadata": {},
     "output_type": "execute_result"
    }
   ],
   "source": [
    "df_test.shape  # Информация по кол-во столбцов и строк"
   ]
  },
  {
   "cell_type": "code",
   "execution_count": 4,
   "id": "d0236e62",
   "metadata": {
    "execution": {
     "iopub.execute_input": "2022-01-26T21:03:15.698175Z",
     "iopub.status.busy": "2022-01-26T21:03:15.694043Z",
     "iopub.status.idle": "2022-01-26T21:03:15.737783Z",
     "shell.execute_reply": "2022-01-26T21:03:15.738278Z",
     "shell.execute_reply.started": "2021-12-04T22:02:08.375025Z"
    },
    "papermill": {
     "duration": 0.067593,
     "end_time": "2022-01-26T21:03:15.738447",
     "exception": false,
     "start_time": "2022-01-26T21:03:15.670854",
     "status": "completed"
    },
    "tags": []
   },
   "outputs": [
    {
     "name": "stdout",
     "output_type": "stream",
     "text": [
      "<class 'pandas.core.frame.DataFrame'>\n",
      "RangeIndex: 73799 entries, 0 to 73798\n",
      "Data columns (total 14 columns):\n",
      " #   Column            Non-Null Count  Dtype \n",
      "---  ------            --------------  ----- \n",
      " 0   client_id         73799 non-null  int64 \n",
      " 1   education         73492 non-null  object\n",
      " 2   sex               73799 non-null  object\n",
      " 3   age               73799 non-null  int64 \n",
      " 4   car               73799 non-null  object\n",
      " 5   car_type          73799 non-null  object\n",
      " 6   decline_app_cnt   73799 non-null  int64 \n",
      " 7   good_work         73799 non-null  int64 \n",
      " 8   bki_request_cnt   73799 non-null  int64 \n",
      " 9   home_address      73799 non-null  int64 \n",
      " 10  work_address      73799 non-null  int64 \n",
      " 11  income            73799 non-null  int64 \n",
      " 12  foreign_passport  73799 non-null  object\n",
      " 13  default           73799 non-null  int64 \n",
      "dtypes: int64(9), object(5)\n",
      "memory usage: 7.9+ MB\n"
     ]
    }
   ],
   "source": [
    "df_train.info()"
   ]
  },
  {
   "cell_type": "code",
   "execution_count": 5,
   "id": "18a0ca64",
   "metadata": {
    "execution": {
     "iopub.execute_input": "2022-01-26T21:03:15.784341Z",
     "iopub.status.busy": "2022-01-26T21:03:15.783787Z",
     "iopub.status.idle": "2022-01-26T21:03:15.802344Z",
     "shell.execute_reply": "2022-01-26T21:03:15.801872Z",
     "shell.execute_reply.started": "2021-12-04T22:02:08.447694Z"
    },
    "papermill": {
     "duration": 0.041921,
     "end_time": "2022-01-26T21:03:15.802472",
     "exception": false,
     "start_time": "2022-01-26T21:03:15.760551",
     "status": "completed"
    },
    "tags": []
   },
   "outputs": [
    {
     "data": {
      "text/html": [
       "<div>\n",
       "<style scoped>\n",
       "    .dataframe tbody tr th:only-of-type {\n",
       "        vertical-align: middle;\n",
       "    }\n",
       "\n",
       "    .dataframe tbody tr th {\n",
       "        vertical-align: top;\n",
       "    }\n",
       "\n",
       "    .dataframe thead th {\n",
       "        text-align: right;\n",
       "    }\n",
       "</style>\n",
       "<table border=\"1\" class=\"dataframe\">\n",
       "  <thead>\n",
       "    <tr style=\"text-align: right;\">\n",
       "      <th></th>\n",
       "      <th>client_id</th>\n",
       "      <th>education</th>\n",
       "      <th>sex</th>\n",
       "      <th>age</th>\n",
       "      <th>car</th>\n",
       "      <th>car_type</th>\n",
       "      <th>decline_app_cnt</th>\n",
       "      <th>good_work</th>\n",
       "      <th>bki_request_cnt</th>\n",
       "      <th>home_address</th>\n",
       "      <th>work_address</th>\n",
       "      <th>income</th>\n",
       "      <th>foreign_passport</th>\n",
       "      <th>default</th>\n",
       "    </tr>\n",
       "  </thead>\n",
       "  <tbody>\n",
       "    <tr>\n",
       "      <th>0</th>\n",
       "      <td>25905</td>\n",
       "      <td>SCH</td>\n",
       "      <td>M</td>\n",
       "      <td>62</td>\n",
       "      <td>Y</td>\n",
       "      <td>Y</td>\n",
       "      <td>0</td>\n",
       "      <td>0</td>\n",
       "      <td>1</td>\n",
       "      <td>1</td>\n",
       "      <td>2</td>\n",
       "      <td>18000</td>\n",
       "      <td>N</td>\n",
       "      <td>0</td>\n",
       "    </tr>\n",
       "    <tr>\n",
       "      <th>1</th>\n",
       "      <td>63161</td>\n",
       "      <td>SCH</td>\n",
       "      <td>F</td>\n",
       "      <td>59</td>\n",
       "      <td>N</td>\n",
       "      <td>N</td>\n",
       "      <td>0</td>\n",
       "      <td>0</td>\n",
       "      <td>3</td>\n",
       "      <td>2</td>\n",
       "      <td>3</td>\n",
       "      <td>19000</td>\n",
       "      <td>N</td>\n",
       "      <td>0</td>\n",
       "    </tr>\n",
       "    <tr>\n",
       "      <th>2</th>\n",
       "      <td>25887</td>\n",
       "      <td>SCH</td>\n",
       "      <td>M</td>\n",
       "      <td>25</td>\n",
       "      <td>Y</td>\n",
       "      <td>N</td>\n",
       "      <td>2</td>\n",
       "      <td>0</td>\n",
       "      <td>1</td>\n",
       "      <td>1</td>\n",
       "      <td>2</td>\n",
       "      <td>30000</td>\n",
       "      <td>Y</td>\n",
       "      <td>0</td>\n",
       "    </tr>\n",
       "    <tr>\n",
       "      <th>3</th>\n",
       "      <td>16222</td>\n",
       "      <td>SCH</td>\n",
       "      <td>F</td>\n",
       "      <td>53</td>\n",
       "      <td>N</td>\n",
       "      <td>N</td>\n",
       "      <td>0</td>\n",
       "      <td>0</td>\n",
       "      <td>2</td>\n",
       "      <td>2</td>\n",
       "      <td>3</td>\n",
       "      <td>10000</td>\n",
       "      <td>N</td>\n",
       "      <td>0</td>\n",
       "    </tr>\n",
       "    <tr>\n",
       "      <th>4</th>\n",
       "      <td>101655</td>\n",
       "      <td>GRD</td>\n",
       "      <td>M</td>\n",
       "      <td>48</td>\n",
       "      <td>N</td>\n",
       "      <td>N</td>\n",
       "      <td>0</td>\n",
       "      <td>1</td>\n",
       "      <td>1</td>\n",
       "      <td>2</td>\n",
       "      <td>3</td>\n",
       "      <td>30000</td>\n",
       "      <td>Y</td>\n",
       "      <td>0</td>\n",
       "    </tr>\n",
       "  </tbody>\n",
       "</table>\n",
       "</div>"
      ],
      "text/plain": [
       "   client_id education sex  age car car_type  decline_app_cnt  good_work  \\\n",
       "0      25905       SCH   M   62   Y        Y                0          0   \n",
       "1      63161       SCH   F   59   N        N                0          0   \n",
       "2      25887       SCH   M   25   Y        N                2          0   \n",
       "3      16222       SCH   F   53   N        N                0          0   \n",
       "4     101655       GRD   M   48   N        N                0          1   \n",
       "\n",
       "   bki_request_cnt  home_address  work_address  income foreign_passport  \\\n",
       "0                1             1             2   18000                N   \n",
       "1                3             2             3   19000                N   \n",
       "2                1             1             2   30000                Y   \n",
       "3                2             2             3   10000                N   \n",
       "4                1             2             3   30000                Y   \n",
       "\n",
       "   default  \n",
       "0        0  \n",
       "1        0  \n",
       "2        0  \n",
       "3        0  \n",
       "4        0  "
      ]
     },
     "execution_count": 5,
     "metadata": {},
     "output_type": "execute_result"
    }
   ],
   "source": [
    "df_train.head(5)"
   ]
  },
  {
   "cell_type": "code",
   "execution_count": 6,
   "id": "5b10c53b",
   "metadata": {
    "execution": {
     "iopub.execute_input": "2022-01-26T21:03:15.872277Z",
     "iopub.status.busy": "2022-01-26T21:03:15.849752Z",
     "iopub.status.idle": "2022-01-26T21:03:15.880651Z",
     "shell.execute_reply": "2022-01-26T21:03:15.881382Z",
     "shell.execute_reply.started": "2021-12-04T22:02:08.472865Z"
    },
    "papermill": {
     "duration": 0.057319,
     "end_time": "2022-01-26T21:03:15.881571",
     "exception": false,
     "start_time": "2022-01-26T21:03:15.824252",
     "status": "completed"
    },
    "tags": []
   },
   "outputs": [
    {
     "name": "stdout",
     "output_type": "stream",
     "text": [
      "<class 'pandas.core.frame.DataFrame'>\n",
      "RangeIndex: 36349 entries, 0 to 36348\n",
      "Data columns (total 18 columns):\n",
      " #   Column            Non-Null Count  Dtype  \n",
      "---  ------            --------------  -----  \n",
      " 0   client_id         36349 non-null  int64  \n",
      " 1   app_date          36349 non-null  object \n",
      " 2   education         36178 non-null  object \n",
      " 3   sex               36349 non-null  object \n",
      " 4   age               36349 non-null  int64  \n",
      " 5   car               36349 non-null  object \n",
      " 6   car_type          36349 non-null  object \n",
      " 7   decline_app_cnt   36349 non-null  int64  \n",
      " 8   good_work         36349 non-null  int64  \n",
      " 9   score_bki         36349 non-null  float64\n",
      " 10  bki_request_cnt   36349 non-null  int64  \n",
      " 11  region_rating     36349 non-null  int64  \n",
      " 12  home_address      36349 non-null  int64  \n",
      " 13  work_address      36349 non-null  int64  \n",
      " 14  income            36349 non-null  int64  \n",
      " 15  sna               36349 non-null  int64  \n",
      " 16  first_time        36349 non-null  int64  \n",
      " 17  foreign_passport  36349 non-null  object \n",
      "dtypes: float64(1), int64(11), object(6)\n",
      "memory usage: 5.0+ MB\n"
     ]
    }
   ],
   "source": [
    "df_test.info()"
   ]
  },
  {
   "cell_type": "code",
   "execution_count": 7,
   "id": "6ce182c0",
   "metadata": {
    "execution": {
     "iopub.execute_input": "2022-01-26T21:03:16.041365Z",
     "iopub.status.busy": "2022-01-26T21:03:16.040761Z",
     "iopub.status.idle": "2022-01-26T21:03:16.088733Z",
     "shell.execute_reply": "2022-01-26T21:03:16.087968Z",
     "shell.execute_reply.started": "2021-12-04T22:02:08.543928Z"
    },
    "papermill": {
     "duration": 0.07585,
     "end_time": "2022-01-26T21:03:16.088966",
     "exception": false,
     "start_time": "2022-01-26T21:03:16.013116",
     "status": "completed"
    },
    "tags": []
   },
   "outputs": [],
   "source": [
    "# ВАЖНО! дря корректной обработки признаков объединяем трейн и тест в один датасет\n",
    "df_train['sample'] = 1 # помечаем где у нас трейн\n",
    "df_test['sample'] = 0  # помечаем где у нас тест\n",
    "df_test['default'] = 0 # в тесте у нас нет значения default, мы его должны предсказать, по этому пока просто заполняем нулями\n",
    "\n",
    "data = df_test.append(df_train, sort=False).reset_index(drop=True) # объединяем"
   ]
  },
  {
   "cell_type": "code",
   "execution_count": 8,
   "id": "f1dccfe1",
   "metadata": {
    "execution": {
     "iopub.execute_input": "2022-01-26T21:03:16.140666Z",
     "iopub.status.busy": "2022-01-26T21:03:16.140107Z",
     "iopub.status.idle": "2022-01-26T21:03:16.198049Z",
     "shell.execute_reply": "2022-01-26T21:03:16.198589Z",
     "shell.execute_reply.started": "2021-12-04T22:02:08.640315Z"
    },
    "papermill": {
     "duration": 0.08633,
     "end_time": "2022-01-26T21:03:16.198779",
     "exception": false,
     "start_time": "2022-01-26T21:03:16.112449",
     "status": "completed"
    },
    "tags": []
   },
   "outputs": [
    {
     "data": {
      "text/plain": [
       "client_id           110148\n",
       "app_date               121\n",
       "education                6\n",
       "sex                      2\n",
       "age                     52\n",
       "car                      2\n",
       "car_type                 2\n",
       "decline_app_cnt         24\n",
       "good_work                2\n",
       "score_bki            34288\n",
       "bki_request_cnt         40\n",
       "region_rating            8\n",
       "home_address             3\n",
       "work_address             3\n",
       "income                1207\n",
       "sna                      5\n",
       "first_time               5\n",
       "foreign_passport         2\n",
       "sample                   2\n",
       "default                  2\n",
       "dtype: int64"
      ]
     },
     "execution_count": 8,
     "metadata": {},
     "output_type": "execute_result"
    }
   ],
   "source": [
    "data.nunique(dropna=False)"
   ]
  },
  {
   "cell_type": "code",
   "execution_count": 9,
   "id": "51caa8ae",
   "metadata": {
    "execution": {
     "iopub.execute_input": "2022-01-26T21:03:16.271905Z",
     "iopub.status.busy": "2022-01-26T21:03:16.271097Z",
     "iopub.status.idle": "2022-01-26T21:03:16.272881Z",
     "shell.execute_reply": "2022-01-26T21:03:16.273340Z",
     "shell.execute_reply.started": "2021-12-04T22:02:08.726645Z"
    },
    "papermill": {
     "duration": 0.041583,
     "end_time": "2022-01-26T21:03:16.273527",
     "exception": false,
     "start_time": "2022-01-26T21:03:16.231944",
     "status": "completed"
    },
    "tags": []
   },
   "outputs": [],
   "source": [
    "num_cols = ['age', 'score_bki', 'decline_app_cnt', 'score_bki', 'bki_request_cnt', 'income']\n",
    "cat_cols = ['education', 'first_time', 'sna', 'work_address', 'home_address', 'region_rating']\n",
    "bin_cols = ['sex', 'car', 'car_type', 'good_work', 'foreign_passport']"
   ]
  },
  {
   "cell_type": "code",
   "execution_count": 10,
   "id": "353c5df6",
   "metadata": {
    "execution": {
     "iopub.execute_input": "2022-01-26T21:03:16.321272Z",
     "iopub.status.busy": "2022-01-26T21:03:16.320583Z",
     "iopub.status.idle": "2022-01-26T21:03:16.534389Z",
     "shell.execute_reply": "2022-01-26T21:03:16.533507Z",
     "shell.execute_reply.started": "2021-12-04T22:02:08.733995Z"
    },
    "papermill": {
     "duration": 0.238897,
     "end_time": "2022-01-26T21:03:16.534544",
     "exception": false,
     "start_time": "2022-01-26T21:03:16.295647",
     "status": "completed"
    },
    "tags": []
   },
   "outputs": [
    {
     "data": {
      "image/png": "[encoded data removed]",
      "text/plain": [
       "<Figure size 432x288 with 1 Axes>"
      ]
     },
     "metadata": {
      "needs_background": "light"
     },
     "output_type": "display_data"
    }
   ],
   "source": [
    "data['default'].replace(to_replace={0:'Люди без дефолда',1:'Люди с дефолдом'},inplace=True)\n",
    "data['default'].value_counts().plot.barh()\n",
    "plt.title('Кол-во людей с дефолдом и без')\n",
    "plt.show()\n",
    "#Воизбежание в дальнейшем ошибки возвращаем колонку в изначальное обозночение переменных\n",
    "data['default'].replace(to_replace={'Люди без дефолда':0,'Люди с дефолдом':1},inplace=True)"
   ]
  },
  {
   "cell_type": "markdown",
   "id": "3104beba",
   "metadata": {},
   "source": [
    "__Как мы видем на графике людей без дефолта на много больше,чем с ним.__"
   ]
  },
  {
   "cell_type": "markdown",
   "id": "bdf61366",
   "metadata": {},
   "source": [
    "# Построим графики распределения логарифмированных переменных для численных переменных."
   ]
  },
  {
   "cell_type": "code",
   "execution_count": 11,
   "id": "bd20da8c",
   "metadata": {},
   "outputs": [
    {
     "data": {
      "image/png": "[encoded data removed]",
      "text/plain": [
       "<Figure size 432x288 with 1 Axes>"
      ]
     },
     "metadata": {
      "needs_background": "light"
     },
     "output_type": "display_data"
    },
    {
     "data": {
      "image/png": "[encoded data removed]",
      "text/plain": [
       "<Figure size 432x288 with 1 Axes>"
      ]
     },
     "metadata": {
      "needs_background": "light"
     },
     "output_type": "display_data"
    },
    {
     "data": {
      "image/png": "[encoded data removed]",
      "text/plain": [
       "<Figure size 432x288 with 1 Axes>"
      ]
     },
     "metadata": {
      "needs_background": "light"
     },
     "output_type": "display_data"
    },
    {
     "data": {
      "image/png": "[encoded data removed]",
      "text/plain": [
       "<Figure size 432x288 with 1 Axes>"
      ]
     },
     "metadata": {
      "needs_background": "light"
     },
     "output_type": "display_data"
    }
   ],
   "source": [
    "# бинарные переменные\n",
    "bin_cols = ['sex', 'car', 'car_type', 'good_work', 'foreign_passport']\n",
    "\n",
    "# категориальные переменные\n",
    "cat_cols = ['education', 'work_address', 'home_address']\n",
    "\n",
    "# числовые переменные\n",
    "\n",
    "num_cols = ['age', 'decline_app_cnt', 'bki_request_cnt', 'income']\n",
    "\n",
    "rus_colns = ['Возраст заёмщика', 'Количество отказанных прошлых заявок',\n",
    "             'Количество запросов в БКИ', 'Доход заемщика']\n",
    "\n",
    "train, validation = train_test_split(data, test_size=0.33, random_state=42)\n",
    "for i,col in zip(num_cols,rus_colns):\n",
    "    plt.figure()\n",
    "    sns.distplot(train[i][train[i] > 0].dropna(), kde=False, rug=False)\n",
    "    plt.title(col)\n",
    "    plt.xlabel('')\n",
    "    plt.show()"
   ]
  },
  {
   "cell_type": "code",
   "execution_count": 12,
   "id": "6e6b0e43",
   "metadata": {
    "scrolled": false
   },
   "outputs": [
    {
     "data": {
      "image/png": "[encoded data removed]",
      "text/plain": [
       "<Figure size 432x288 with 1 Axes>"
      ]
     },
     "metadata": {
      "needs_background": "light"
     },
     "output_type": "display_data"
    },
    {
     "data": {
      "image/png": "[encoded data removed]",
      "text/plain": [
       "<Figure size 432x288 with 1 Axes>"
      ]
     },
     "metadata": {
      "needs_background": "light"
     },
     "output_type": "display_data"
    },
    {
     "data": {
      "image/png": "[encoded data removed]",
      "text/plain": [
       "<Figure size 432x288 with 1 Axes>"
      ]
     },
     "metadata": {
      "needs_background": "light"
     },
     "output_type": "display_data"
    },
    {
     "data": {
      "image/png": "[encoded data removed]",
      "text/plain": [
       "<Figure size 432x288 with 1 Axes>"
      ]
     },
     "metadata": {
      "needs_background": "light"
     },
     "output_type": "display_data"
    },
    {
     "name": "stdout",
     "output_type": "stream",
     "text": [
      "Средний возраст дефолтного клиента: 39.25\n",
      "Средний показатель отмененных заявок дефолтного клиента: 0.27\n",
      "Средний показатель БКИ дефолтного клиента: 2.01\n",
      "Средний доход дефолтного клиента: 41012.65\n"
     ]
    }
   ],
   "source": [
    "train, validation = train_test_split(\n",
    "    data, test_size=0.33, random_state=42)\n",
    "for col, i in zip(rus_colns, num_cols):\n",
    "    plt.figure()\n",
    "    plt.title(col)\n",
    "    sns.boxplot(data[i][data[i] > 0].dropna())\n",
    "    plt.xlabel('')\n",
    "    plt.show()\n",
    "print('Средний возраст дефолтного клиента: {:.2f}'.format(\n",
    "    data['age'].mean()))\n",
    "print('Средний показатель отмененных заявок дефолтного клиента: {:.2f}'.format(\n",
    "    data['decline_app_cnt'].mean()))\n",
    "print('Средний показатель БКИ дефолтного клиента: {:.2f}'.format(\n",
    "    data['bki_request_cnt'].mean()))\n",
    "print('Средний доход дефолтного клиента: {:.2f}'.format(\n",
    "    data['income'].mean()))"
   ]
  },
  {
   "cell_type": "markdown",
   "id": "c5a01c5f",
   "metadata": {},
   "source": [
    "# Оценка корреляций"
   ]
  },
  {
   "cell_type": "code",
   "execution_count": 13,
   "id": "f66e73f5",
   "metadata": {},
   "outputs": [
    {
     "data": {
      "text/plain": [
       "<AxesSubplot:>"
      ]
     },
     "execution_count": 13,
     "metadata": {},
     "output_type": "execute_result"
    },
    {
     "data": {
      "image/png": "[encoded data removed]",
      "text/plain": [
       "<Figure size 432x288 with 2 Axes>"
      ]
     },
     "metadata": {
      "needs_background": "light"
     },
     "output_type": "display_data"
    }
   ],
   "source": [
    "sns.heatmap(train[num_cols].corr().abs(), vmin=0, vmax=1, annot=True)"
   ]
  },
  {
   "cell_type": "markdown",
   "id": "345a9467",
   "metadata": {},
   "source": [
    "__Слабая корреляция между всеми признаками.__"
   ]
  },
  {
   "cell_type": "markdown",
   "id": "a0be9d8a",
   "metadata": {},
   "source": [
    "# Значимость непрерывных переменных"
   ]
  },
  {
   "cell_type": "code",
   "execution_count": 14,
   "id": "35901e3d",
   "metadata": {},
   "outputs": [
    {
     "data": {
      "text/plain": [
       "<AxesSubplot:>"
      ]
     },
     "execution_count": 14,
     "metadata": {},
     "output_type": "execute_result"
    },
    {
     "data": {
      "image/png": "[encoded data removed]",
      "text/plain": [
       "<Figure size 432x288 with 1 Axes>"
      ]
     },
     "metadata": {
      "needs_background": "light"
     },
     "output_type": "display_data"
    }
   ],
   "source": [
    "imp_num = pd.Series(f_classif(train[num_cols], train['default'])[\n",
    "                    0], index=num_cols)\n",
    "imp_num.sort_values(inplace=True)\n",
    "imp_num.plot(kind='barh')"
   ]
  },
  {
   "cell_type": "code",
   "execution_count": 15,
   "id": "8b74f9d5",
   "metadata": {
    "execution": {
     "iopub.execute_input": "2022-01-26T21:03:16.609928Z",
     "iopub.status.busy": "2022-01-26T21:03:16.608952Z",
     "iopub.status.idle": "2022-01-26T21:03:16.622298Z",
     "shell.execute_reply": "2022-01-26T21:03:16.622902Z",
     "shell.execute_reply.started": "2021-12-04T22:02:08.956936Z"
    },
    "papermill": {
     "duration": 0.05332,
     "end_time": "2022-01-26T21:03:16.623102",
     "exception": false,
     "start_time": "2022-01-26T21:03:16.569782",
     "status": "completed"
    },
    "tags": []
   },
   "outputs": [],
   "source": [
    "data['day']= pd.to_datetime(data['app_date']).dt.day\n",
    "data['month']= pd.to_datetime(data['app_date']).dt.month\n",
    "data['year']= pd.to_datetime(data['app_date']).dt.year\n",
    "data.drop(['client_id','app_date'], axis = 1, inplace=True)"
   ]
  },
  {
   "cell_type": "code",
   "execution_count": 16,
   "id": "09893fd2",
   "metadata": {
    "execution": {
     "iopub.execute_input": "2022-01-26T21:03:16.697744Z",
     "iopub.status.busy": "2022-01-26T21:03:16.696850Z",
     "iopub.status.idle": "2022-01-26T21:03:16.729682Z",
     "shell.execute_reply": "2022-01-26T21:03:16.730263Z",
     "shell.execute_reply.started": "2021-12-04T22:02:08.972519Z"
    },
    "papermill": {
     "duration": 0.071592,
     "end_time": "2022-01-26T21:03:16.730463",
     "exception": false,
     "start_time": "2022-01-26T21:03:16.658871",
     "status": "completed"
    },
    "tags": []
   },
   "outputs": [],
   "source": [
    "data = pd.get_dummies(data, columns=['education'], dummy_na=True)"
   ]
  },
  {
   "cell_type": "code",
   "execution_count": 17,
   "id": "4fb902ba",
   "metadata": {
    "execution": {
     "iopub.execute_input": "2022-01-26T21:03:16.807009Z",
     "iopub.status.busy": "2022-01-26T21:03:16.806126Z",
     "iopub.status.idle": "2022-01-26T21:03:17.985442Z",
     "shell.execute_reply": "2022-01-26T21:03:17.986003Z",
     "shell.execute_reply.started": "2021-12-04T22:02:09.020025Z"
    },
    "papermill": {
     "duration": 1.219001,
     "end_time": "2022-01-26T21:03:17.986188",
     "exception": false,
     "start_time": "2022-01-26T21:03:16.767187",
     "status": "completed"
    },
    "tags": []
   },
   "outputs": [],
   "source": [
    "le = preprocessing.LabelEncoder()\n",
    "\n",
    "for column in bin_cols:\n",
    "    data[column] = le.fit_transform(data[column])\n",
    "    \n",
    "columns = ['first_time', 'sna', 'work_address', 'home_address', 'region_rating']\n",
    "\n",
    "for column in columns:\n",
    "    data[column] = le.fit_transform(data[column])"
   ]
  },
  {
   "cell_type": "code",
   "execution_count": 18,
   "id": "52107e74",
   "metadata": {
    "execution": {
     "iopub.execute_input": "2022-01-26T21:03:18.060563Z",
     "iopub.status.busy": "2022-01-26T21:03:18.059988Z",
     "iopub.status.idle": "2022-01-26T21:03:18.077423Z",
     "shell.execute_reply": "2022-01-26T21:03:18.076531Z",
     "shell.execute_reply.started": "2021-12-04T22:02:09.522211Z"
    },
    "papermill": {
     "duration": 0.055541,
     "end_time": "2022-01-26T21:03:18.077649",
     "exception": false,
     "start_time": "2022-01-26T21:03:18.022108",
     "status": "completed"
    },
    "tags": []
   },
   "outputs": [
    {
     "name": "stdout",
     "output_type": "stream",
     "text": [
      "<class 'pandas.core.frame.DataFrame'>\n",
      "RangeIndex: 110148 entries, 0 to 110147\n",
      "Data columns (total 26 columns):\n",
      " #   Column            Non-Null Count   Dtype  \n",
      "---  ------            --------------   -----  \n",
      " 0   sex               110148 non-null  int32  \n",
      " 1   age               110148 non-null  int64  \n",
      " 2   car               110148 non-null  int32  \n",
      " 3   car_type          110148 non-null  int32  \n",
      " 4   decline_app_cnt   110148 non-null  int64  \n",
      " 5   good_work         110148 non-null  int64  \n",
      " 6   score_bki         36349 non-null   float64\n",
      " 7   bki_request_cnt   110148 non-null  int64  \n",
      " 8   region_rating     110148 non-null  int64  \n",
      " 9   home_address      110148 non-null  int64  \n",
      " 10  work_address      110148 non-null  int64  \n",
      " 11  income            110148 non-null  int64  \n",
      " 12  sna               110148 non-null  int64  \n",
      " 13  first_time        110148 non-null  int64  \n",
      " 14  foreign_passport  110148 non-null  int32  \n",
      " 15  sample            110148 non-null  int64  \n",
      " 16  default           110148 non-null  int64  \n",
      " 17  day               36349 non-null   float64\n",
      " 18  month             36349 non-null   float64\n",
      " 19  year              36349 non-null   float64\n",
      " 20  education_ACD     110148 non-null  uint8  \n",
      " 21  education_GRD     110148 non-null  uint8  \n",
      " 22  education_PGR     110148 non-null  uint8  \n",
      " 23  education_SCH     110148 non-null  uint8  \n",
      " 24  education_UGR     110148 non-null  uint8  \n",
      " 25  education_nan     110148 non-null  uint8  \n",
      "dtypes: float64(4), int32(4), int64(12), uint8(6)\n",
      "memory usage: 15.8 MB\n"
     ]
    }
   ],
   "source": [
    "data.info()"
   ]
  },
  {
   "cell_type": "code",
   "execution_count": 19,
   "id": "9f664b6d",
   "metadata": {
    "execution": {
     "iopub.execute_input": "2022-01-26T21:03:18.136477Z",
     "iopub.status.busy": "2022-01-26T21:03:18.128608Z",
     "iopub.status.idle": "2022-01-26T21:03:18.162424Z",
     "shell.execute_reply": "2022-01-26T21:03:18.162888Z",
     "shell.execute_reply.started": "2021-12-04T22:02:09.683004Z"
    },
    "papermill": {
     "duration": 0.060621,
     "end_time": "2022-01-26T21:03:18.163026",
     "exception": false,
     "start_time": "2022-01-26T21:03:18.102405",
     "status": "completed"
    },
    "tags": []
   },
   "outputs": [
    {
     "data": {
      "text/html": [
       "<div>\n",
       "<style scoped>\n",
       "    .dataframe tbody tr th:only-of-type {\n",
       "        vertical-align: middle;\n",
       "    }\n",
       "\n",
       "    .dataframe tbody tr th {\n",
       "        vertical-align: top;\n",
       "    }\n",
       "\n",
       "    .dataframe thead th {\n",
       "        text-align: right;\n",
       "    }\n",
       "</style>\n",
       "<table border=\"1\" class=\"dataframe\">\n",
       "  <thead>\n",
       "    <tr style=\"text-align: right;\">\n",
       "      <th></th>\n",
       "      <th>sex</th>\n",
       "      <th>age</th>\n",
       "      <th>car</th>\n",
       "      <th>car_type</th>\n",
       "      <th>decline_app_cnt</th>\n",
       "      <th>good_work</th>\n",
       "      <th>score_bki</th>\n",
       "      <th>bki_request_cnt</th>\n",
       "      <th>region_rating</th>\n",
       "      <th>home_address</th>\n",
       "      <th>...</th>\n",
       "      <th>default</th>\n",
       "      <th>day</th>\n",
       "      <th>month</th>\n",
       "      <th>year</th>\n",
       "      <th>education_ACD</th>\n",
       "      <th>education_GRD</th>\n",
       "      <th>education_PGR</th>\n",
       "      <th>education_SCH</th>\n",
       "      <th>education_UGR</th>\n",
       "      <th>education_nan</th>\n",
       "    </tr>\n",
       "  </thead>\n",
       "  <tbody>\n",
       "    <tr>\n",
       "      <th>0</th>\n",
       "      <td>1</td>\n",
       "      <td>29</td>\n",
       "      <td>1</td>\n",
       "      <td>1</td>\n",
       "      <td>0</td>\n",
       "      <td>0</td>\n",
       "      <td>-2.271884</td>\n",
       "      <td>3</td>\n",
       "      <td>3</td>\n",
       "      <td>0</td>\n",
       "      <td>...</td>\n",
       "      <td>0</td>\n",
       "      <td>22.0</td>\n",
       "      <td>3.0</td>\n",
       "      <td>2014.0</td>\n",
       "      <td>0</td>\n",
       "      <td>1</td>\n",
       "      <td>0</td>\n",
       "      <td>0</td>\n",
       "      <td>0</td>\n",
       "      <td>0</td>\n",
       "    </tr>\n",
       "    <tr>\n",
       "      <th>1</th>\n",
       "      <td>0</td>\n",
       "      <td>39</td>\n",
       "      <td>0</td>\n",
       "      <td>0</td>\n",
       "      <td>5</td>\n",
       "      <td>0</td>\n",
       "      <td>-1.504999</td>\n",
       "      <td>2</td>\n",
       "      <td>3</td>\n",
       "      <td>0</td>\n",
       "      <td>...</td>\n",
       "      <td>0</td>\n",
       "      <td>24.0</td>\n",
       "      <td>1.0</td>\n",
       "      <td>2014.0</td>\n",
       "      <td>0</td>\n",
       "      <td>0</td>\n",
       "      <td>0</td>\n",
       "      <td>1</td>\n",
       "      <td>0</td>\n",
       "      <td>0</td>\n",
       "    </tr>\n",
       "    <tr>\n",
       "      <th>2</th>\n",
       "      <td>1</td>\n",
       "      <td>50</td>\n",
       "      <td>1</td>\n",
       "      <td>1</td>\n",
       "      <td>0</td>\n",
       "      <td>0</td>\n",
       "      <td>-1.691339</td>\n",
       "      <td>1</td>\n",
       "      <td>3</td>\n",
       "      <td>0</td>\n",
       "      <td>...</td>\n",
       "      <td>0</td>\n",
       "      <td>23.0</td>\n",
       "      <td>3.0</td>\n",
       "      <td>2014.0</td>\n",
       "      <td>0</td>\n",
       "      <td>0</td>\n",
       "      <td>0</td>\n",
       "      <td>0</td>\n",
       "      <td>1</td>\n",
       "      <td>0</td>\n",
       "    </tr>\n",
       "    <tr>\n",
       "      <th>3</th>\n",
       "      <td>1</td>\n",
       "      <td>56</td>\n",
       "      <td>0</td>\n",
       "      <td>0</td>\n",
       "      <td>0</td>\n",
       "      <td>0</td>\n",
       "      <td>-2.374182</td>\n",
       "      <td>1</td>\n",
       "      <td>2</td>\n",
       "      <td>0</td>\n",
       "      <td>...</td>\n",
       "      <td>0</td>\n",
       "      <td>3.0</td>\n",
       "      <td>2.0</td>\n",
       "      <td>2014.0</td>\n",
       "      <td>0</td>\n",
       "      <td>0</td>\n",
       "      <td>0</td>\n",
       "      <td>1</td>\n",
       "      <td>0</td>\n",
       "      <td>0</td>\n",
       "    </tr>\n",
       "    <tr>\n",
       "      <th>4</th>\n",
       "      <td>0</td>\n",
       "      <td>38</td>\n",
       "      <td>0</td>\n",
       "      <td>0</td>\n",
       "      <td>0</td>\n",
       "      <td>0</td>\n",
       "      <td>-2.487502</td>\n",
       "      <td>0</td>\n",
       "      <td>6</td>\n",
       "      <td>1</td>\n",
       "      <td>...</td>\n",
       "      <td>0</td>\n",
       "      <td>4.0</td>\n",
       "      <td>2.0</td>\n",
       "      <td>2014.0</td>\n",
       "      <td>0</td>\n",
       "      <td>1</td>\n",
       "      <td>0</td>\n",
       "      <td>0</td>\n",
       "      <td>0</td>\n",
       "      <td>0</td>\n",
       "    </tr>\n",
       "    <tr>\n",
       "      <th>...</th>\n",
       "      <td>...</td>\n",
       "      <td>...</td>\n",
       "      <td>...</td>\n",
       "      <td>...</td>\n",
       "      <td>...</td>\n",
       "      <td>...</td>\n",
       "      <td>...</td>\n",
       "      <td>...</td>\n",
       "      <td>...</td>\n",
       "      <td>...</td>\n",
       "      <td>...</td>\n",
       "      <td>...</td>\n",
       "      <td>...</td>\n",
       "      <td>...</td>\n",
       "      <td>...</td>\n",
       "      <td>...</td>\n",
       "      <td>...</td>\n",
       "      <td>...</td>\n",
       "      <td>...</td>\n",
       "      <td>...</td>\n",
       "      <td>...</td>\n",
       "    </tr>\n",
       "    <tr>\n",
       "      <th>110143</th>\n",
       "      <td>0</td>\n",
       "      <td>45</td>\n",
       "      <td>0</td>\n",
       "      <td>0</td>\n",
       "      <td>0</td>\n",
       "      <td>0</td>\n",
       "      <td>NaN</td>\n",
       "      <td>3</td>\n",
       "      <td>7</td>\n",
       "      <td>0</td>\n",
       "      <td>...</td>\n",
       "      <td>0</td>\n",
       "      <td>NaN</td>\n",
       "      <td>NaN</td>\n",
       "      <td>NaN</td>\n",
       "      <td>0</td>\n",
       "      <td>1</td>\n",
       "      <td>0</td>\n",
       "      <td>0</td>\n",
       "      <td>0</td>\n",
       "      <td>0</td>\n",
       "    </tr>\n",
       "    <tr>\n",
       "      <th>110144</th>\n",
       "      <td>1</td>\n",
       "      <td>41</td>\n",
       "      <td>1</td>\n",
       "      <td>1</td>\n",
       "      <td>0</td>\n",
       "      <td>0</td>\n",
       "      <td>NaN</td>\n",
       "      <td>1</td>\n",
       "      <td>7</td>\n",
       "      <td>1</td>\n",
       "      <td>...</td>\n",
       "      <td>0</td>\n",
       "      <td>NaN</td>\n",
       "      <td>NaN</td>\n",
       "      <td>NaN</td>\n",
       "      <td>0</td>\n",
       "      <td>0</td>\n",
       "      <td>0</td>\n",
       "      <td>1</td>\n",
       "      <td>0</td>\n",
       "      <td>0</td>\n",
       "    </tr>\n",
       "    <tr>\n",
       "      <th>110145</th>\n",
       "      <td>1</td>\n",
       "      <td>31</td>\n",
       "      <td>0</td>\n",
       "      <td>0</td>\n",
       "      <td>0</td>\n",
       "      <td>0</td>\n",
       "      <td>NaN</td>\n",
       "      <td>4</td>\n",
       "      <td>7</td>\n",
       "      <td>1</td>\n",
       "      <td>...</td>\n",
       "      <td>0</td>\n",
       "      <td>NaN</td>\n",
       "      <td>NaN</td>\n",
       "      <td>NaN</td>\n",
       "      <td>0</td>\n",
       "      <td>0</td>\n",
       "      <td>0</td>\n",
       "      <td>1</td>\n",
       "      <td>0</td>\n",
       "      <td>0</td>\n",
       "    </tr>\n",
       "    <tr>\n",
       "      <th>110146</th>\n",
       "      <td>0</td>\n",
       "      <td>29</td>\n",
       "      <td>0</td>\n",
       "      <td>0</td>\n",
       "      <td>0</td>\n",
       "      <td>1</td>\n",
       "      <td>NaN</td>\n",
       "      <td>3</td>\n",
       "      <td>7</td>\n",
       "      <td>0</td>\n",
       "      <td>...</td>\n",
       "      <td>1</td>\n",
       "      <td>NaN</td>\n",
       "      <td>NaN</td>\n",
       "      <td>NaN</td>\n",
       "      <td>0</td>\n",
       "      <td>0</td>\n",
       "      <td>0</td>\n",
       "      <td>1</td>\n",
       "      <td>0</td>\n",
       "      <td>0</td>\n",
       "    </tr>\n",
       "    <tr>\n",
       "      <th>110147</th>\n",
       "      <td>1</td>\n",
       "      <td>34</td>\n",
       "      <td>0</td>\n",
       "      <td>0</td>\n",
       "      <td>0</td>\n",
       "      <td>0</td>\n",
       "      <td>NaN</td>\n",
       "      <td>2</td>\n",
       "      <td>7</td>\n",
       "      <td>1</td>\n",
       "      <td>...</td>\n",
       "      <td>0</td>\n",
       "      <td>NaN</td>\n",
       "      <td>NaN</td>\n",
       "      <td>NaN</td>\n",
       "      <td>0</td>\n",
       "      <td>1</td>\n",
       "      <td>0</td>\n",
       "      <td>0</td>\n",
       "      <td>0</td>\n",
       "      <td>0</td>\n",
       "    </tr>\n",
       "  </tbody>\n",
       "</table>\n",
       "<p>110148 rows × 26 columns</p>\n",
       "</div>"
      ],
      "text/plain": [
       "        sex  age  car  car_type  decline_app_cnt  good_work  score_bki  \\\n",
       "0         1   29    1         1                0          0  -2.271884   \n",
       "1         0   39    0         0                5          0  -1.504999   \n",
       "2         1   50    1         1                0          0  -1.691339   \n",
       "3         1   56    0         0                0          0  -2.374182   \n",
       "4         0   38    0         0                0          0  -2.487502   \n",
       "...     ...  ...  ...       ...              ...        ...        ...   \n",
       "110143    0   45    0         0                0          0        NaN   \n",
       "110144    1   41    1         1                0          0        NaN   \n",
       "110145    1   31    0         0                0          0        NaN   \n",
       "110146    0   29    0         0                0          1        NaN   \n",
       "110147    1   34    0         0                0          0        NaN   \n",
       "\n",
       "        bki_request_cnt  region_rating  home_address  ...  default   day  \\\n",
       "0                     3              3             0  ...        0  22.0   \n",
       "1                     2              3             0  ...        0  24.0   \n",
       "2                     1              3             0  ...        0  23.0   \n",
       "3                     1              2             0  ...        0   3.0   \n",
       "4                     0              6             1  ...        0   4.0   \n",
       "...                 ...            ...           ...  ...      ...   ...   \n",
       "110143                3              7             0  ...        0   NaN   \n",
       "110144                1              7             1  ...        0   NaN   \n",
       "110145                4              7             1  ...        0   NaN   \n",
       "110146                3              7             0  ...        1   NaN   \n",
       "110147                2              7             1  ...        0   NaN   \n",
       "\n",
       "        month    year  education_ACD  education_GRD  education_PGR  \\\n",
       "0         3.0  2014.0              0              1              0   \n",
       "1         1.0  2014.0              0              0              0   \n",
       "2         3.0  2014.0              0              0              0   \n",
       "3         2.0  2014.0              0              0              0   \n",
       "4         2.0  2014.0              0              1              0   \n",
       "...       ...     ...            ...            ...            ...   \n",
       "110143    NaN     NaN              0              1              0   \n",
       "110144    NaN     NaN              0              0              0   \n",
       "110145    NaN     NaN              0              0              0   \n",
       "110146    NaN     NaN              0              0              0   \n",
       "110147    NaN     NaN              0              1              0   \n",
       "\n",
       "        education_SCH  education_UGR  education_nan  \n",
       "0                   0              0              0  \n",
       "1                   1              0              0  \n",
       "2                   0              1              0  \n",
       "3                   1              0              0  \n",
       "4                   0              0              0  \n",
       "...               ...            ...            ...  \n",
       "110143              0              0              0  \n",
       "110144              1              0              0  \n",
       "110145              1              0              0  \n",
       "110146              1              0              0  \n",
       "110147              0              0              0  \n",
       "\n",
       "[110148 rows x 26 columns]"
      ]
     },
     "execution_count": 19,
     "metadata": {},
     "output_type": "execute_result"
    }
   ],
   "source": [
    "data"
   ]
  },
  {
   "cell_type": "markdown",
   "id": "c86828c2",
   "metadata": {},
   "source": [
    "# Подготовка данных к машинному обучению"
   ]
  },
  {
   "cell_type": "code",
   "execution_count": 20,
   "id": "4c52748c",
   "metadata": {
    "execution": {
     "iopub.execute_input": "2022-01-26T21:03:18.214425Z",
     "iopub.status.busy": "2022-01-26T21:03:18.213817Z",
     "iopub.status.idle": "2022-01-26T21:03:18.252660Z",
     "shell.execute_reply": "2022-01-26T21:03:18.252173Z",
     "shell.execute_reply.started": "2021-12-04T22:02:09.734382Z"
    },
    "papermill": {
     "duration": 0.06593,
     "end_time": "2022-01-26T21:03:18.252789",
     "exception": false,
     "start_time": "2022-01-26T21:03:18.186859",
     "status": "completed"
    },
    "tags": []
   },
   "outputs": [],
   "source": [
    "data.dropna(axis=1,inplace=True)\n",
    "\n",
    "y = data['default'].values  # наш таргет\n",
    "X = data.drop(['default'], axis=1)"
   ]
  },
  {
   "cell_type": "code",
   "execution_count": 21,
   "id": "e967cda9",
   "metadata": {
    "execution": {
     "iopub.execute_input": "2022-01-26T21:03:18.305601Z",
     "iopub.status.busy": "2022-01-26T21:03:18.305008Z",
     "iopub.status.idle": "2022-01-26T21:03:18.379173Z",
     "shell.execute_reply": "2022-01-26T21:03:18.378637Z",
     "shell.execute_reply.started": "2021-12-04T22:02:09.786815Z"
    },
    "papermill": {
     "duration": 0.102817,
     "end_time": "2022-01-26T21:03:18.379307",
     "exception": false,
     "start_time": "2022-01-26T21:03:18.276490",
     "status": "completed"
    },
    "tags": []
   },
   "outputs": [],
   "source": [
    "X_train, X_test, y_train, y_test = train_test_split(X, y, test_size=0.33, random_state=42)"
   ]
  },
  {
   "cell_type": "code",
   "execution_count": 22,
   "id": "c1593c2c",
   "metadata": {
    "execution": {
     "iopub.execute_input": "2022-01-26T21:03:18.732343Z",
     "iopub.status.busy": "2022-01-26T21:03:18.731841Z",
     "iopub.status.idle": "2022-01-26T21:03:19.183857Z",
     "shell.execute_reply": "2022-01-26T21:03:19.183336Z",
     "shell.execute_reply.started": "2021-12-04T22:02:09.875133Z"
    },
    "papermill": {
     "duration": 0.482853,
     "end_time": "2022-01-26T21:03:19.183998",
     "exception": false,
     "start_time": "2022-01-26T21:03:18.701145",
     "status": "completed"
    },
    "tags": []
   },
   "outputs": [],
   "source": [
    "logreg = LogisticRegression(random_state=42)\n",
    "logreg.fit(X_train, y_train)\n",
    "y_pred = logreg.predict(X_test)"
   ]
  },
  {
   "cell_type": "markdown",
   "id": "af3df1ac",
   "metadata": {},
   "source": [
    "# Оценка качества модели"
   ]
  },
  {
   "cell_type": "code",
   "execution_count": 23,
   "id": "e0a974c7",
   "metadata": {},
   "outputs": [
    {
     "name": "stdout",
     "output_type": "stream",
     "text": [
      "              precision    recall  f1-score   support\n",
      "\n",
      "           0       0.92      1.00      0.96     33303\n",
      "           1       0.50      0.00      0.00      3046\n",
      "\n",
      "    accuracy                           0.92     36349\n",
      "   macro avg       0.71      0.50      0.48     36349\n",
      "weighted avg       0.88      0.92      0.88     36349\n",
      "\n"
     ]
    }
   ],
   "source": [
    "classification_report = classification_report(y_test, y_pred)\n",
    "print(classification_report)"
   ]
  },
  {
   "cell_type": "markdown",
   "id": "f5c48bfa",
   "metadata": {},
   "source": [
    "## Точноть(precision),полнота(recall) и f1-score у людей без дефолда оказался высокий показатель,чем людей которые с ним в метриках.Точность(accuracy) метрики показывает очень высокий результат.Что говорит об не очень высокой качестве данной модели."
   ]
  },
  {
   "cell_type": "code",
   "execution_count": 24,
   "id": "a3f0baa2",
   "metadata": {},
   "outputs": [
    {
     "data": {
      "text/plain": [
       "array([[33302,     1],\n",
       "       [ 3045,     1]], dtype=int64)"
      ]
     },
     "execution_count": 24,
     "metadata": {},
     "output_type": "execute_result"
    }
   ],
   "source": [
    "confusion_matrix(y_test, y_pred)"
   ]
  },
  {
   "cell_type": "markdown",
   "id": "01451d14",
   "metadata": {},
   "source": [
    "# Матрица ошибок определила людей без дефолда 33302 человека,а с дефолдом одного человека.Ошибкой первого рода,является 1,а второго 3045.Это говорит о слабой предсказательной способности."
   ]
  },
  {
   "cell_type": "code",
   "execution_count": 25,
   "id": "cc317616",
   "metadata": {},
   "outputs": [
    {
     "data": {
      "image/png": "[encoded data removed]",
      "text/plain": [
       "<Figure size 432x288 with 1 Axes>"
      ]
     },
     "metadata": {
      "needs_background": "light"
     },
     "output_type": "display_data"
    }
   ],
   "source": [
    "roc_auc = roc_auc_score(y_test, y_pred)\n",
    "\n",
    "plt.figure()\n",
    "plt.plot([0, 1], label='Baseline', linestyle='--')\n",
    "plt.plot(roc_auc,label = 'Regression')\n",
    "plt.title('Logistic Regression ROC AUC = %0.3f' % roc_auc)\n",
    "plt.ylabel('True Positive Rate')\n",
    "plt.xlabel('False Positive Rate')\n",
    "plt.legend(loc = 'lower right')\n",
    "plt.show()"
   ]
  },
  {
   "cell_type": "markdown",
   "id": "be44b1ab",
   "metadata": {},
   "source": [
    "__Средние качество модели__"
   ]
  },
  {
   "cell_type": "markdown",
   "id": "f5e3be16",
   "metadata": {},
   "source": [
    "## Такой показатель говорит об не очень высоком качестве модели."
   ]
  },
  {
   "cell_type": "code",
   "execution_count": null,
   "id": "84ed1c8f",
   "metadata": {},
   "outputs": [],
   "source": []
  }
 ],
 "metadata": {
  "kernelspec": {
   "display_name": "Python 3 (ipykernel)",
   "language": "python",
   "name": "python3"
  },
  "language_info": {
   "codemirror_mode": {
    "name": "ipython",
    "version": 3
   },
   "file_extension": ".py",
   "mimetype": "text/x-python",
   "name": "python",
   "nbconvert_exporter": "python",
   "pygments_lexer": "ipython3",
   "version": "3.8.8"
  },
  "papermill": {
   "default_parameters": {},
   "duration": 15.26062,
   "end_time": "2022-01-26T21:03:21.587424",
   "environment_variables": {},
   "exception": null,
   "input_path": "__notebook__.ipynb",
   "output_path": "__notebook__.ipynb",
   "parameters": {},
   "start_time": "2022-01-26T21:03:06.326804",
   "version": "2.3.3"
  }
 },
 "nbformat": 4,
 "nbformat_minor": 5
}

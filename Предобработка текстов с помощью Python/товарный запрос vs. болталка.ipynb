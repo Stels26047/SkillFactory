{
 "cells": [
  {
   "cell_type": "markdown",
   "metadata": {
    "id": "f9f69ccb"
   },
   "source": [
    "# Импорт библиотек."
   ]
  },
  {
   "cell_type": "code",
   "execution_count": 1,
   "metadata": {
    "execution": {
     "iopub.execute_input": "2023-05-15T11:17:55.543882Z",
     "iopub.status.busy": "2023-05-15T11:17:55.543342Z",
     "iopub.status.idle": "2023-05-15T11:17:56.328413Z",
     "shell.execute_reply": "2023-05-15T11:17:56.327206Z",
     "shell.execute_reply.started": "2023-05-15T11:17:55.543838Z"
    },
    "id": "d55ba28f"
   },
   "outputs": [],
   "source": [
    "from sklearn.model_selection import train_test_split\n",
    "import pandas as pd\n",
    "import numpy as np\n",
    "from sklearn.linear_model import LogisticRegression\n",
    "from sklearn.feature_extraction.text import TfidfVectorizer\n",
    "from sklearn.preprocessing import LabelEncoder\n",
    "import os\n",
    "import string\n",
    "import annoy\n",
    "import codecs\n",
    "\n",
    "from pymorphy2 import MorphAnalyzer\n",
    "from stop_words import get_stop_words\n",
    "from gensim.models import Word2Vec\n",
    "\n",
    "import numpy as np\n",
    "from tqdm.notebook import tqdm"
   ]
  },
  {
   "cell_type": "markdown",
   "metadata": {
    "id": "4f627d99"
   },
   "source": [
    "# Просмотр краткого содержания по данным."
   ]
  },
  {
   "cell_type": "code",
   "execution_count": 272,
   "metadata": {
    "execution": {
     "iopub.execute_input": "2023-05-15T11:17:56.331549Z",
     "iopub.status.busy": "2023-05-15T11:17:56.330371Z",
     "iopub.status.idle": "2023-05-15T11:19:11.860982Z",
     "shell.execute_reply": "2023-05-15T11:19:11.859404Z",
     "shell.execute_reply.started": "2023-05-15T11:17:56.331500Z"
    },
    "id": "8a53cb3b",
    "outputId": "e19edc27-9a0b-41f1-d24f-219d472964e6"
   },
   "outputs": [
    {
     "data": {
      "text/html": [
       "<div>\n",
       "<style scoped>\n",
       "    .dataframe tbody tr th:only-of-type {\n",
       "        vertical-align: middle;\n",
       "    }\n",
       "\n",
       "    .dataframe tbody tr th {\n",
       "        vertical-align: top;\n",
       "    }\n",
       "\n",
       "    .dataframe thead th {\n",
       "        text-align: right;\n",
       "    }\n",
       "</style>\n",
       "<table border=\"1\" class=\"dataframe\">\n",
       "  <thead>\n",
       "    <tr style=\"text-align: right;\">\n",
       "      <th></th>\n",
       "      <th>title</th>\n",
       "      <th>descrirption</th>\n",
       "      <th>product_id</th>\n",
       "      <th>category_id</th>\n",
       "      <th>subcategory_id</th>\n",
       "      <th>properties</th>\n",
       "      <th>image_links</th>\n",
       "    </tr>\n",
       "  </thead>\n",
       "  <tbody>\n",
       "    <tr>\n",
       "      <th>0</th>\n",
       "      <td>Юбка детская ORBY</td>\n",
       "      <td>Новая, не носили ни разу. В реале красивей чем...</td>\n",
       "      <td>58e3cfe6132ca50e053f5f82</td>\n",
       "      <td>22.0</td>\n",
       "      <td>2211</td>\n",
       "      <td>{'detskie_razmer_rost': '81-86 (1,5 года)'}</td>\n",
       "      <td>http://cache3.youla.io/files/images/360_360/58...</td>\n",
       "    </tr>\n",
       "    <tr>\n",
       "      <th>1</th>\n",
       "      <td>Ботильоны</td>\n",
       "      <td>Новые,привезены из Чехии ,указан размер 40,но ...</td>\n",
       "      <td>5667531b2b7f8d127d838c34</td>\n",
       "      <td>9.0</td>\n",
       "      <td>902</td>\n",
       "      <td>{'zhenskaya_odezhda_tzvet': 'Зеленый', 'visota...</td>\n",
       "      <td>http://cache3.youla.io/files/images/360_360/5b...</td>\n",
       "    </tr>\n",
       "    <tr>\n",
       "      <th>2</th>\n",
       "      <td>Брюки</td>\n",
       "      <td>Размер 40-42. Брюки почти новые - не знаю как ...</td>\n",
       "      <td>59534826aaab284cba337e06</td>\n",
       "      <td>9.0</td>\n",
       "      <td>906</td>\n",
       "      <td>{'zhenskaya_odezhda_dzhinsy_bryuki_tip': 'Брюк...</td>\n",
       "      <td>http://cache3.youla.io/files/images/360_360/59...</td>\n",
       "    </tr>\n",
       "    <tr>\n",
       "      <th>3</th>\n",
       "      <td>Продам детские шапки</td>\n",
       "      <td>Продам шапки,кажда 200р.Розовая и белая проданны.</td>\n",
       "      <td>57de544096ad842e26de8027</td>\n",
       "      <td>22.0</td>\n",
       "      <td>2217</td>\n",
       "      <td>{'detskie_pol': 'Девочкам', 'detskaya_odezhda_...</td>\n",
       "      <td>http://cache3.youla.io/files/images/360_360/57...</td>\n",
       "    </tr>\n",
       "    <tr>\n",
       "      <th>4</th>\n",
       "      <td>Блузка</td>\n",
       "      <td>Темно-синяя, 42 размер,состояние отличное,как ...</td>\n",
       "      <td>5ad4d2626c86cb168d212022</td>\n",
       "      <td>9.0</td>\n",
       "      <td>907</td>\n",
       "      <td>{'zhenskaya_odezhda_tzvet': 'Синий', 'zhenskay...</td>\n",
       "      <td>http://cache3.youla.io/files/images/360_360/5a...</td>\n",
       "    </tr>\n",
       "  </tbody>\n",
       "</table>\n",
       "</div>"
      ],
      "text/plain": [
       "                  title                                       descrirption  \\\n",
       "0     Юбка детская ORBY  Новая, не носили ни разу. В реале красивей чем...   \n",
       "1             Ботильоны  Новые,привезены из Чехии ,указан размер 40,но ...   \n",
       "2                 Брюки  Размер 40-42. Брюки почти новые - не знаю как ...   \n",
       "3  Продам детские шапки  Продам шапки,кажда 200р.Розовая и белая проданны.   \n",
       "4                Блузка  Темно-синяя, 42 размер,состояние отличное,как ...   \n",
       "\n",
       "                 product_id  category_id subcategory_id  \\\n",
       "0  58e3cfe6132ca50e053f5f82         22.0           2211   \n",
       "1  5667531b2b7f8d127d838c34          9.0            902   \n",
       "2  59534826aaab284cba337e06          9.0            906   \n",
       "3  57de544096ad842e26de8027         22.0           2217   \n",
       "4  5ad4d2626c86cb168d212022          9.0            907   \n",
       "\n",
       "                                          properties  \\\n",
       "0        {'detskie_razmer_rost': '81-86 (1,5 года)'}   \n",
       "1  {'zhenskaya_odezhda_tzvet': 'Зеленый', 'visota...   \n",
       "2  {'zhenskaya_odezhda_dzhinsy_bryuki_tip': 'Брюк...   \n",
       "3  {'detskie_pol': 'Девочкам', 'detskaya_odezhda_...   \n",
       "4  {'zhenskaya_odezhda_tzvet': 'Синий', 'zhenskay...   \n",
       "\n",
       "                                         image_links  \n",
       "0  http://cache3.youla.io/files/images/360_360/58...  \n",
       "1  http://cache3.youla.io/files/images/360_360/5b...  \n",
       "2  http://cache3.youla.io/files/images/360_360/59...  \n",
       "3  http://cache3.youla.io/files/images/360_360/57...  \n",
       "4  http://cache3.youla.io/files/images/360_360/5a...  "
      ]
     },
     "execution_count": 272,
     "metadata": {},
     "output_type": "execute_result"
    }
   ],
   "source": [
    "df = pd.read_csv('ProductsDataset.csv')\n",
    "df.head()"
   ]
  },
  {
   "cell_type": "code",
   "execution_count": 273,
   "metadata": {
    "execution": {
     "iopub.execute_input": "2023-05-15T11:19:11.863516Z",
     "iopub.status.busy": "2023-05-15T11:19:11.863021Z",
     "iopub.status.idle": "2023-05-15T11:19:11.890152Z",
     "shell.execute_reply": "2023-05-15T11:19:11.888515Z",
     "shell.execute_reply.started": "2023-05-15T11:19:11.863453Z"
    },
    "id": "9827e25c",
    "outputId": "ec8a868b-3235-45fe-e91b-4140c4a2fbc4"
   },
   "outputs": [
    {
     "name": "stdout",
     "output_type": "stream",
     "text": [
      "<class 'pandas.core.frame.DataFrame'>\n",
      "RangeIndex: 35548 entries, 0 to 35547\n",
      "Data columns (total 7 columns):\n",
      " #   Column          Non-Null Count  Dtype  \n",
      "---  ------          --------------  -----  \n",
      " 0   title           35548 non-null  object \n",
      " 1   descrirption    33537 non-null  object \n",
      " 2   product_id      35536 non-null  object \n",
      " 3   category_id     35536 non-null  float64\n",
      " 4   subcategory_id  35536 non-null  object \n",
      " 5   properties      35536 non-null  object \n",
      " 6   image_links     35533 non-null  object \n",
      "dtypes: float64(1), object(6)\n",
      "memory usage: 1.9+ MB\n"
     ]
    }
   ],
   "source": [
    "df.info()"
   ]
  },
  {
   "cell_type": "code",
   "execution_count": 274,
   "metadata": {},
   "outputs": [
    {
     "data": {
      "text/plain": [
       "title                0\n",
       "descrirption      2011\n",
       "product_id          12\n",
       "category_id         12\n",
       "subcategory_id      12\n",
       "properties          12\n",
       "image_links         15\n",
       "dtype: int64"
      ]
     },
     "execution_count": 274,
     "metadata": {},
     "output_type": "execute_result"
    }
   ],
   "source": [
    "df.isna().sum()"
   ]
  },
  {
   "cell_type": "code",
   "execution_count": 275,
   "metadata": {},
   "outputs": [],
   "source": [
    "df.fillna(0,inplace=True)"
   ]
  },
  {
   "cell_type": "markdown",
   "metadata": {},
   "source": [
    "## Осуществлён препроцессинг текста (как минимум удаление знаков препинания, приведение к нижнему регистру, стемминг/лемматизация)."
   ]
  },
  {
   "cell_type": "code",
   "execution_count": 276,
   "metadata": {},
   "outputs": [
    {
     "data": {
      "text/html": [
       "<div>\n",
       "<style scoped>\n",
       "    .dataframe tbody tr th:only-of-type {\n",
       "        vertical-align: middle;\n",
       "    }\n",
       "\n",
       "    .dataframe tbody tr th {\n",
       "        vertical-align: top;\n",
       "    }\n",
       "\n",
       "    .dataframe thead th {\n",
       "        text-align: right;\n",
       "    }\n",
       "</style>\n",
       "<table border=\"1\" class=\"dataframe\">\n",
       "  <thead>\n",
       "    <tr style=\"text-align: right;\">\n",
       "      <th></th>\n",
       "      <th>title</th>\n",
       "    </tr>\n",
       "  </thead>\n",
       "  <tbody>\n",
       "    <tr>\n",
       "      <th>0</th>\n",
       "      <td>[Юбка, детская, ORBY]</td>\n",
       "    </tr>\n",
       "    <tr>\n",
       "      <th>1</th>\n",
       "      <td>[Ботильоны]</td>\n",
       "    </tr>\n",
       "    <tr>\n",
       "      <th>2</th>\n",
       "      <td>[Брюки]</td>\n",
       "    </tr>\n",
       "    <tr>\n",
       "      <th>3</th>\n",
       "      <td>[Продам, детские, шапки]</td>\n",
       "    </tr>\n",
       "    <tr>\n",
       "      <th>4</th>\n",
       "      <td>[Блузка]</td>\n",
       "    </tr>\n",
       "    <tr>\n",
       "      <th>...</th>\n",
       "      <td>...</td>\n",
       "    </tr>\n",
       "    <tr>\n",
       "      <th>35543</th>\n",
       "      <td>[Юбка]</td>\n",
       "    </tr>\n",
       "    <tr>\n",
       "      <th>35544</th>\n",
       "      <td>[Новый, твидовый, пиджак]</td>\n",
       "    </tr>\n",
       "    <tr>\n",
       "      <th>35545</th>\n",
       "      <td>[Женская, зимняя, куртка]</td>\n",
       "    </tr>\n",
       "    <tr>\n",
       "      <th>35546</th>\n",
       "      <td>[Новая, золотая, ветровка]</td>\n",
       "    </tr>\n",
       "    <tr>\n",
       "      <th>35547</th>\n",
       "      <td>[Шарф]</td>\n",
       "    </tr>\n",
       "  </tbody>\n",
       "</table>\n",
       "<p>35548 rows × 1 columns</p>\n",
       "</div>"
      ],
      "text/plain": [
       "                            title\n",
       "0           [Юбка, детская, ORBY]\n",
       "1                     [Ботильоны]\n",
       "2                         [Брюки]\n",
       "3        [Продам, детские, шапки]\n",
       "4                        [Блузка]\n",
       "...                           ...\n",
       "35543                      [Юбка]\n",
       "35544   [Новый, твидовый, пиджак]\n",
       "35545   [Женская, зимняя, куртка]\n",
       "35546  [Новая, золотая, ветровка]\n",
       "35547                      [Шарф]\n",
       "\n",
       "[35548 rows x 1 columns]"
      ]
     },
     "execution_count": 276,
     "metadata": {},
     "output_type": "execute_result"
    }
   ],
   "source": [
    "df['title'] = [str(value).split(' ') for value in df['title']]\n",
    "df[['title']]"
   ]
  },
  {
   "cell_type": "code",
   "execution_count": 277,
   "metadata": {},
   "outputs": [
    {
     "data": {
      "text/plain": [
       "0        [новая, не, носили, ни, разу, в, реале, красив...\n",
       "1        [новые, привезены, из, чехии, указан, размер, ...\n",
       "2        [размер, 40, 42, брюки, почти, новые, , не, зн...\n",
       "3        [продам, шапки, кажда, 200р, розовая, и, белая...\n",
       "4        [темно, синяя, 42, размер, состояние, отличное...\n",
       "                               ...                        \n",
       "35543                [юбка, белая, по, турция, фирма, adl]\n",
       "35544    [новый, с, бирками, пиджак, размер, s, в, стил...\n",
       "35545    [женская, зимняя, спортивная, куртка, фирмы, r...\n",
       "35546    [женская, ветровка, размер, 44, 46, цвет, приг...\n",
       "35547                                                  [0]\n",
       "Name: descrirption, Length: 35548, dtype: object"
      ]
     },
     "execution_count": 277,
     "metadata": {},
     "output_type": "execute_result"
    }
   ],
   "source": [
    "df['descrirption'] = [' '.join(str(value).lower().split(',')) for value in df['descrirption']]\n",
    "df['descrirption'] = [' '.join(str(value).split('.')) for value in df['descrirption']]\n",
    "df['descrirption'] = [' '.join(str(value).split('-')) for value in df['descrirption']]\n",
    "df['descrirption'] = [' '.join(str(value).split('(')) for value in df['descrirption']]\n",
    "df['descrirption'] = [' '.join(str(value).split(')')) for value in df['descrirption']]\n",
    "df['descrirption'] = [' '.join(str(value).split('  ')) for value in df['descrirption']]\n",
    "df['descrirption'] = [str(value).strip(\" \") for value in df['descrirption']]\n",
    "df['descrirption'] = [str(value).split(' ') for value in df['descrirption']]\n",
    "df['descrirption']"
   ]
  },
  {
   "cell_type": "code",
   "execution_count": 278,
   "metadata": {},
   "outputs": [
    {
     "data": {
      "text/plain": [
       "0                 [detskie_razmer_rost, 81, 86, 1,5, года]\n",
       "1        [zhenskaya_odezhda_tzvet, Зеленый, visota_kabl...\n",
       "2        [zhenskaya_odezhda_dzhinsy_bryuki_tip, Брюки, ...\n",
       "3        [detskie_pol, Девочкам, detskaya_odezhda_akses...\n",
       "4        [zhenskaya_odezhda_tzvet, Синий, zhenskaya_ode...\n",
       "                               ...                        \n",
       "35543    [zhenskaya_odezhda_platya_yubki_tip, Юбки, zhe...\n",
       "35544    [brand_zhenskii, Chanel, zhenskaya_odezhda_tzv...\n",
       "35545    [zhenskaya_odezhda_razmer, 48, 50, XL, zhenska...\n",
       "35546    [zhenskaya_odezhda_razmer, 44, 46, М, zhenskay...\n",
       "35547    [zhenskaya_odezhda_aksessuary_tip, Шарфы, и, п...\n",
       "Name: properties, Length: 35548, dtype: object"
      ]
     },
     "execution_count": 278,
     "metadata": {},
     "output_type": "execute_result"
    }
   ],
   "source": [
    "df['properties'] = [' '.join(str(value).split(':')) for value in df['properties']]\n",
    "df['properties'] = [' '.join(str(value).split(\"'\")) for value in df['properties']]\n",
    "df['properties'] = [' '.join(str(value).split(\"{\")) for value in df['properties']]\n",
    "df['properties'] = [' '.join(str(value).split(\"}\")) for value in df['properties']]\n",
    "df['properties'] = [' '.join(str(value).split(\"(\")) for value in df['properties']]\n",
    "df['properties'] = [' '.join(str(value).split(\")\")) for value in df['properties']]\n",
    "df['properties'] = [' '.join(str(value).split(\", \")) for value in df['properties']]\n",
    "df['properties'] = [' '.join(str(value).split(\"-\")) for value in df['properties']]\n",
    "df['properties'] = ['-'.join(str(value).split(\"  \")) for value in df['properties']]\n",
    "df['properties'] = [' '.join(str(value).split(\"-\")) for value in df['properties']]\n",
    "df['properties'] = [str(value).strip(\" \") for value in df['properties']]\n",
    "df['properties'] = [' '.join(str(value).split(\"  \")) for value in df['properties']]\n",
    "df['properties'] = [str(value).split(\" \") for value in df['properties']]\n",
    "df['properties']"
   ]
  },
  {
   "cell_type": "code",
   "execution_count": 279,
   "metadata": {},
   "outputs": [
    {
     "data": {
      "text/html": [
       "<div>\n",
       "<style scoped>\n",
       "    .dataframe tbody tr th:only-of-type {\n",
       "        vertical-align: middle;\n",
       "    }\n",
       "\n",
       "    .dataframe tbody tr th {\n",
       "        vertical-align: top;\n",
       "    }\n",
       "\n",
       "    .dataframe thead th {\n",
       "        text-align: right;\n",
       "    }\n",
       "</style>\n",
       "<table border=\"1\" class=\"dataframe\">\n",
       "  <thead>\n",
       "    <tr style=\"text-align: right;\">\n",
       "      <th></th>\n",
       "      <th>title</th>\n",
       "      <th>descrirption</th>\n",
       "      <th>product_id</th>\n",
       "      <th>category_id</th>\n",
       "      <th>subcategory_id</th>\n",
       "      <th>properties</th>\n",
       "      <th>image_links</th>\n",
       "    </tr>\n",
       "  </thead>\n",
       "  <tbody>\n",
       "    <tr>\n",
       "      <th>0</th>\n",
       "      <td>[Юбка, детская, ORBY]</td>\n",
       "      <td>[новая, не, носили, ни, разу, в, реале, красив...</td>\n",
       "      <td>58e3cfe6132ca50e053f5f82</td>\n",
       "      <td>22.0</td>\n",
       "      <td>2211</td>\n",
       "      <td>[detskie_razmer_rost, 81, 86, 1,5, года]</td>\n",
       "      <td>http://cache3.youla.io/files/images/360_360/58...</td>\n",
       "    </tr>\n",
       "    <tr>\n",
       "      <th>1</th>\n",
       "      <td>[Ботильоны]</td>\n",
       "      <td>[новые, привезены, из, чехии, указан, размер, ...</td>\n",
       "      <td>5667531b2b7f8d127d838c34</td>\n",
       "      <td>9.0</td>\n",
       "      <td>902</td>\n",
       "      <td>[zhenskaya_odezhda_tzvet, Зеленый, visota_kabl...</td>\n",
       "      <td>http://cache3.youla.io/files/images/360_360/5b...</td>\n",
       "    </tr>\n",
       "    <tr>\n",
       "      <th>2</th>\n",
       "      <td>[Брюки]</td>\n",
       "      <td>[размер, 40, 42, брюки, почти, новые, , не, зн...</td>\n",
       "      <td>59534826aaab284cba337e06</td>\n",
       "      <td>9.0</td>\n",
       "      <td>906</td>\n",
       "      <td>[zhenskaya_odezhda_dzhinsy_bryuki_tip, Брюки, ...</td>\n",
       "      <td>http://cache3.youla.io/files/images/360_360/59...</td>\n",
       "    </tr>\n",
       "    <tr>\n",
       "      <th>3</th>\n",
       "      <td>[Продам, детские, шапки]</td>\n",
       "      <td>[продам, шапки, кажда, 200р, розовая, и, белая...</td>\n",
       "      <td>57de544096ad842e26de8027</td>\n",
       "      <td>22.0</td>\n",
       "      <td>2217</td>\n",
       "      <td>[detskie_pol, Девочкам, detskaya_odezhda_akses...</td>\n",
       "      <td>http://cache3.youla.io/files/images/360_360/57...</td>\n",
       "    </tr>\n",
       "    <tr>\n",
       "      <th>4</th>\n",
       "      <td>[Блузка]</td>\n",
       "      <td>[темно, синяя, 42, размер, состояние, отличное...</td>\n",
       "      <td>5ad4d2626c86cb168d212022</td>\n",
       "      <td>9.0</td>\n",
       "      <td>907</td>\n",
       "      <td>[zhenskaya_odezhda_tzvet, Синий, zhenskaya_ode...</td>\n",
       "      <td>http://cache3.youla.io/files/images/360_360/5a...</td>\n",
       "    </tr>\n",
       "    <tr>\n",
       "      <th>...</th>\n",
       "      <td>...</td>\n",
       "      <td>...</td>\n",
       "      <td>...</td>\n",
       "      <td>...</td>\n",
       "      <td>...</td>\n",
       "      <td>...</td>\n",
       "      <td>...</td>\n",
       "    </tr>\n",
       "    <tr>\n",
       "      <th>35543</th>\n",
       "      <td>[Юбка]</td>\n",
       "      <td>[юбка, белая, по, турция, фирма, adl]</td>\n",
       "      <td>5b5f181c62e1c6616a7f6472</td>\n",
       "      <td>9.0</td>\n",
       "      <td>904</td>\n",
       "      <td>[zhenskaya_odezhda_platya_yubki_tip, Юбки, zhe...</td>\n",
       "      <td>http://cache3.youla.io/files/images/360_360/5b...</td>\n",
       "    </tr>\n",
       "    <tr>\n",
       "      <th>35544</th>\n",
       "      <td>[Новый, твидовый, пиджак]</td>\n",
       "      <td>[новый, с, бирками, пиджак, размер, s, в, стил...</td>\n",
       "      <td>5bd6c8b29e94ba033d31f8d0</td>\n",
       "      <td>9.0</td>\n",
       "      <td>908</td>\n",
       "      <td>[brand_zhenskii, Chanel, zhenskaya_odezhda_tzv...</td>\n",
       "      <td>http://cache3.youla.io/files/images/360_360/5b...</td>\n",
       "    </tr>\n",
       "    <tr>\n",
       "      <th>35545</th>\n",
       "      <td>[Женская, зимняя, куртка]</td>\n",
       "      <td>[женская, зимняя, спортивная, куртка, фирмы, r...</td>\n",
       "      <td>5bd6c8bc074b3e1c056f69b2</td>\n",
       "      <td>9.0</td>\n",
       "      <td>903</td>\n",
       "      <td>[zhenskaya_odezhda_razmer, 48, 50, XL, zhenska...</td>\n",
       "      <td>http://cache3.youla.io/files/images/360_360/5b...</td>\n",
       "    </tr>\n",
       "    <tr>\n",
       "      <th>35546</th>\n",
       "      <td>[Новая, золотая, ветровка]</td>\n",
       "      <td>[женская, ветровка, размер, 44, 46, цвет, приг...</td>\n",
       "      <td>5bd6c8fb2138bbc55745362c</td>\n",
       "      <td>9.0</td>\n",
       "      <td>903</td>\n",
       "      <td>[zhenskaya_odezhda_razmer, 44, 46, М, zhenskay...</td>\n",
       "      <td>http://cache3.youla.io/files/images/360_360/5b...</td>\n",
       "    </tr>\n",
       "    <tr>\n",
       "      <th>35547</th>\n",
       "      <td>[Шарф]</td>\n",
       "      <td>[0]</td>\n",
       "      <td>5bd6c8fbaaab283b79142a1f</td>\n",
       "      <td>9.0</td>\n",
       "      <td>914</td>\n",
       "      <td>[zhenskaya_odezhda_aksessuary_tip, Шарфы, и, п...</td>\n",
       "      <td>http://cache3.youla.io/files/images/360_360/5b...</td>\n",
       "    </tr>\n",
       "  </tbody>\n",
       "</table>\n",
       "<p>35548 rows × 7 columns</p>\n",
       "</div>"
      ],
      "text/plain": [
       "                            title  \\\n",
       "0           [Юбка, детская, ORBY]   \n",
       "1                     [Ботильоны]   \n",
       "2                         [Брюки]   \n",
       "3        [Продам, детские, шапки]   \n",
       "4                        [Блузка]   \n",
       "...                           ...   \n",
       "35543                      [Юбка]   \n",
       "35544   [Новый, твидовый, пиджак]   \n",
       "35545   [Женская, зимняя, куртка]   \n",
       "35546  [Новая, золотая, ветровка]   \n",
       "35547                      [Шарф]   \n",
       "\n",
       "                                            descrirption  \\\n",
       "0      [новая, не, носили, ни, разу, в, реале, красив...   \n",
       "1      [новые, привезены, из, чехии, указан, размер, ...   \n",
       "2      [размер, 40, 42, брюки, почти, новые, , не, зн...   \n",
       "3      [продам, шапки, кажда, 200р, розовая, и, белая...   \n",
       "4      [темно, синяя, 42, размер, состояние, отличное...   \n",
       "...                                                  ...   \n",
       "35543              [юбка, белая, по, турция, фирма, adl]   \n",
       "35544  [новый, с, бирками, пиджак, размер, s, в, стил...   \n",
       "35545  [женская, зимняя, спортивная, куртка, фирмы, r...   \n",
       "35546  [женская, ветровка, размер, 44, 46, цвет, приг...   \n",
       "35547                                                [0]   \n",
       "\n",
       "                     product_id  category_id subcategory_id  \\\n",
       "0      58e3cfe6132ca50e053f5f82         22.0           2211   \n",
       "1      5667531b2b7f8d127d838c34          9.0            902   \n",
       "2      59534826aaab284cba337e06          9.0            906   \n",
       "3      57de544096ad842e26de8027         22.0           2217   \n",
       "4      5ad4d2626c86cb168d212022          9.0            907   \n",
       "...                         ...          ...            ...   \n",
       "35543  5b5f181c62e1c6616a7f6472          9.0            904   \n",
       "35544  5bd6c8b29e94ba033d31f8d0          9.0            908   \n",
       "35545  5bd6c8bc074b3e1c056f69b2          9.0            903   \n",
       "35546  5bd6c8fb2138bbc55745362c          9.0            903   \n",
       "35547  5bd6c8fbaaab283b79142a1f          9.0            914   \n",
       "\n",
       "                                              properties  \\\n",
       "0               [detskie_razmer_rost, 81, 86, 1,5, года]   \n",
       "1      [zhenskaya_odezhda_tzvet, Зеленый, visota_kabl...   \n",
       "2      [zhenskaya_odezhda_dzhinsy_bryuki_tip, Брюки, ...   \n",
       "3      [detskie_pol, Девочкам, detskaya_odezhda_akses...   \n",
       "4      [zhenskaya_odezhda_tzvet, Синий, zhenskaya_ode...   \n",
       "...                                                  ...   \n",
       "35543  [zhenskaya_odezhda_platya_yubki_tip, Юбки, zhe...   \n",
       "35544  [brand_zhenskii, Chanel, zhenskaya_odezhda_tzv...   \n",
       "35545  [zhenskaya_odezhda_razmer, 48, 50, XL, zhenska...   \n",
       "35546  [zhenskaya_odezhda_razmer, 44, 46, М, zhenskay...   \n",
       "35547  [zhenskaya_odezhda_aksessuary_tip, Шарфы, и, п...   \n",
       "\n",
       "                                             image_links  \n",
       "0      http://cache3.youla.io/files/images/360_360/58...  \n",
       "1      http://cache3.youla.io/files/images/360_360/5b...  \n",
       "2      http://cache3.youla.io/files/images/360_360/59...  \n",
       "3      http://cache3.youla.io/files/images/360_360/57...  \n",
       "4      http://cache3.youla.io/files/images/360_360/5a...  \n",
       "...                                                  ...  \n",
       "35543  http://cache3.youla.io/files/images/360_360/5b...  \n",
       "35544  http://cache3.youla.io/files/images/360_360/5b...  \n",
       "35545  http://cache3.youla.io/files/images/360_360/5b...  \n",
       "35546  http://cache3.youla.io/files/images/360_360/5b...  \n",
       "35547  http://cache3.youla.io/files/images/360_360/5b...  \n",
       "\n",
       "[35548 rows x 7 columns]"
      ]
     },
     "execution_count": 279,
     "metadata": {},
     "output_type": "execute_result"
    }
   ],
   "source": [
    "df"
   ]
  },
  {
   "cell_type": "code",
   "execution_count": 280,
   "metadata": {},
   "outputs": [
    {
     "data": {
      "text/html": [
       "<div>\n",
       "<style scoped>\n",
       "    .dataframe tbody tr th:only-of-type {\n",
       "        vertical-align: middle;\n",
       "    }\n",
       "\n",
       "    .dataframe tbody tr th {\n",
       "        vertical-align: top;\n",
       "    }\n",
       "\n",
       "    .dataframe thead th {\n",
       "        text-align: right;\n",
       "    }\n",
       "</style>\n",
       "<table border=\"1\" class=\"dataframe\">\n",
       "  <thead>\n",
       "    <tr style=\"text-align: right;\">\n",
       "      <th></th>\n",
       "      <th>title</th>\n",
       "    </tr>\n",
       "  </thead>\n",
       "  <tbody>\n",
       "    <tr>\n",
       "      <th>0</th>\n",
       "      <td>[Юбка, детская, ORBY, новая, не, носили, ни, р...</td>\n",
       "    </tr>\n",
       "    <tr>\n",
       "      <th>1</th>\n",
       "      <td>[Ботильоны, новые, привезены, из, чехии, указа...</td>\n",
       "    </tr>\n",
       "    <tr>\n",
       "      <th>2</th>\n",
       "      <td>[Брюки, размер, 40, 42, брюки, почти, новые, ,...</td>\n",
       "    </tr>\n",
       "    <tr>\n",
       "      <th>3</th>\n",
       "      <td>[Продам, детские, шапки, продам, шапки, кажда,...</td>\n",
       "    </tr>\n",
       "    <tr>\n",
       "      <th>4</th>\n",
       "      <td>[Блузка, темно, синяя, 42, размер, состояние, ...</td>\n",
       "    </tr>\n",
       "    <tr>\n",
       "      <th>...</th>\n",
       "      <td>...</td>\n",
       "    </tr>\n",
       "    <tr>\n",
       "      <th>35543</th>\n",
       "      <td>[Юбка, юбка, белая, по, турция, фирма, adl]</td>\n",
       "    </tr>\n",
       "    <tr>\n",
       "      <th>35544</th>\n",
       "      <td>[Новый, твидовый, пиджак, новый, с, бирками, п...</td>\n",
       "    </tr>\n",
       "    <tr>\n",
       "      <th>35545</th>\n",
       "      <td>[Женская, зимняя, куртка, женская, зимняя, спо...</td>\n",
       "    </tr>\n",
       "    <tr>\n",
       "      <th>35546</th>\n",
       "      <td>[Новая, золотая, ветровка, женская, ветровка, ...</td>\n",
       "    </tr>\n",
       "    <tr>\n",
       "      <th>35547</th>\n",
       "      <td>[Шарф, 0]</td>\n",
       "    </tr>\n",
       "  </tbody>\n",
       "</table>\n",
       "<p>35548 rows × 1 columns</p>\n",
       "</div>"
      ],
      "text/plain": [
       "                                                   title\n",
       "0      [Юбка, детская, ORBY, новая, не, носили, ни, р...\n",
       "1      [Ботильоны, новые, привезены, из, чехии, указа...\n",
       "2      [Брюки, размер, 40, 42, брюки, почти, новые, ,...\n",
       "3      [Продам, детские, шапки, продам, шапки, кажда,...\n",
       "4      [Блузка, темно, синяя, 42, размер, состояние, ...\n",
       "...                                                  ...\n",
       "35543        [Юбка, юбка, белая, по, турция, фирма, adl]\n",
       "35544  [Новый, твидовый, пиджак, новый, с, бирками, п...\n",
       "35545  [Женская, зимняя, куртка, женская, зимняя, спо...\n",
       "35546  [Новая, золотая, ветровка, женская, ветровка, ...\n",
       "35547                                          [Шарф, 0]\n",
       "\n",
       "[35548 rows x 1 columns]"
      ]
     },
     "execution_count": 280,
     "metadata": {},
     "output_type": "execute_result"
    }
   ],
   "source": [
    "for title,descrirption in zip(df[['title']],df[['descrirption']]):\n",
    "    df[title] = df[title] + df[descrirption]\n",
    "                     \n",
    "df[['title']]"
   ]
  },
  {
   "cell_type": "code",
   "execution_count": 11,
   "metadata": {},
   "outputs": [
    {
     "data": {
      "application/vnd.jupyter.widget-view+json": {
       "model_id": "770a9c7e854f44789d23a4c504b6522b",
       "version_major": 2,
       "version_minor": 0
      },
      "text/plain": [
       "0it [00:00, ?it/s]"
      ]
     },
     "metadata": {},
     "output_type": "display_data"
    }
   ],
   "source": [
    "question = None\n",
    "written = False\n",
    "import codecs\n",
    "from tqdm.notebook import tqdm\n",
    "#Мы идем по всем записям, берем первую строку как вопрос\n",
    "# и после знака --- находим ответ\n",
    "with codecs.open(\"prepared_answers.txt\",\"w\", \"utf-8\") as fout:\n",
    "    with codecs.open(\"Otvety.txt\", \"r\", \"utf-8\") as fin:\n",
    "        for line in tqdm(fin):\n",
    "            if line.startswith(\"---\"):\n",
    "                written = False\n",
    "                continue\n",
    "            if not written and question is not None:\n",
    "                fout.write(question.replace(\"\\t\", \" \").strip() + \"\\t\" + line.replace(\"\\t\", \" \"))\n",
    "                written = True\n",
    "                question = None\n",
    "                continue\n",
    "            if not written:\n",
    "                question = line.strip()\n",
    "                continue"
   ]
  },
  {
   "cell_type": "code",
   "execution_count": 12,
   "metadata": {},
   "outputs": [],
   "source": [
    "def preprocess_txt(line):\n",
    "    spls = \"\".join(i for i in line.strip() if i not in exclude).split()\n",
    "    spls = [morpher.parse(i.lower())[0].normal_form for i in spls]\n",
    "    spls = [i for i in spls if i not in sw and i != \"\"]\n",
    "    return spls"
   ]
  },
  {
   "cell_type": "code",
   "execution_count": 13,
   "metadata": {},
   "outputs": [
    {
     "data": {
      "application/vnd.jupyter.widget-view+json": {
       "model_id": "2cf32297973e4f8b85d39f68c6dbf8e9",
       "version_major": 2,
       "version_minor": 0
      },
      "text/plain": [
       "0it [00:00, ?it/s]"
      ]
     },
     "metadata": {},
     "output_type": "display_data"
    }
   ],
   "source": [
    "sentences = []\n",
    "\n",
    "morpher = MorphAnalyzer()\n",
    "sw = set(get_stop_words(\"ru\"))\n",
    "exclude = set(string.punctuation)\n",
    "c = 0\n",
    "\n",
    "with codecs.open(\"Otvety.txt\", \"r\", \"utf-8\") as fin:\n",
    "    for line in tqdm(fin):\n",
    "        spls = preprocess_txt(line)\n",
    "        sentences.append(spls)\n",
    "        c += 1\n",
    "        if c > 500000:\n",
    "            break"
   ]
  },
  {
   "cell_type": "code",
   "execution_count": 14,
   "metadata": {},
   "outputs": [],
   "source": [
    "# Обучим модель word2vec на наших вопросах\n",
    "sentences = [i for i in sentences if len(i) > 2]\n",
    "model = Word2Vec(sentences=sentences, size=100, min_count=1, window=5)\n",
    "model.save(\"w2v_model\")"
   ]
  },
  {
   "cell_type": "code",
   "execution_count": 15,
   "metadata": {},
   "outputs": [
    {
     "data": {
      "application/vnd.jupyter.widget-view+json": {
       "model_id": "04202dbcce944d95b0cc299967b6e413",
       "version_major": 2,
       "version_minor": 0
      },
      "text/plain": [
       "0it [00:00, ?it/s]"
      ]
     },
     "metadata": {},
     "output_type": "display_data"
    },
    {
     "data": {
      "text/plain": [
       "True"
      ]
     },
     "execution_count": 15,
     "metadata": {},
     "output_type": "execute_result"
    }
   ],
   "source": [
    "index = annoy.AnnoyIndex(100 ,'angular')\n",
    "\n",
    "index_map = {}\n",
    "counter = 0\n",
    "\n",
    "with codecs.open(\"prepared_answers.txt\", \"r\", \"utf-8\") as f:\n",
    "    for line in tqdm(f):\n",
    "        n_w2v = 0\n",
    "        spls = line.split(\"\\t\")\n",
    "        index_map[counter] = spls[1]\n",
    "        question = preprocess_txt(spls[0])\n",
    "        vector = np.zeros(100)\n",
    "        for word in question:\n",
    "            if word in model.wv:\n",
    "                vector += model.wv[word]\n",
    "                n_w2v += 1\n",
    "        if n_w2v > 0:\n",
    "            vector = vector / n_w2v\n",
    "        index.add_item(counter, vector)\n",
    "            \n",
    "        counter += 1\n",
    "\n",
    "index.build(10)\n",
    "index.save('speaker.ann')"
   ]
  },
  {
   "cell_type": "code",
   "execution_count": 92,
   "metadata": {},
   "outputs": [],
   "source": [
    "def get_answer(chat):\n",
    "    preprocessed_title = preprocess_txt(chat)\n",
    "    n_w2v = 0\n",
    "    vector = np.zeros(100)\n",
    "    for word in preprocessed_title:\n",
    "        if word in model_w2v_chat.wv:\n",
    "            vector += model_w2v_chat.wv[word]\n",
    "            n_w2v += 1\n",
    "    if n_w2v > 0:\n",
    "        vector = vector / n_w2v\n",
    "    answer_index = index_chat.get_nns_by_vector(vector, 1)\n",
    "    return index_chat_map[answer_index[0]]\n",
    "\n",
    "    with open('index_chat_map.pickle', 'rb') as f:\n",
    "        index_chat_map = pickle.load(f)\n",
    "    index_chat = annoy.AnnoyIndex(100, 'angular')\n",
    "    index_chat.load('speaker.ann')"
   ]
  },
  {
   "cell_type": "code",
   "execution_count": null,
   "metadata": {},
   "outputs": [],
   "source": []
  }
 ],
 "metadata": {
  "kernelspec": {
   "display_name": "Python 3 (ipykernel)",
   "language": "python",
   "name": "python3"
  },
  "language_info": {
   "codemirror_mode": {
    "name": "ipython",
    "version": 3
   },
   "file_extension": ".py",
   "mimetype": "text/x-python",
   "name": "python",
   "nbconvert_exporter": "python",
   "pygments_lexer": "ipython3",
   "version": "3.9.7"
  }
 },
 "nbformat": 4,
 "nbformat_minor": 4
}

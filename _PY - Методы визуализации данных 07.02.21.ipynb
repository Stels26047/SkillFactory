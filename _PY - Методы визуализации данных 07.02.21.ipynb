{
 "cells": [
  {
   "cell_type": "markdown",
   "metadata": {},
   "source": [
    "# Вебинар по теме: Методы визуализации данных\n",
    "\n",
    "## Вопросы:\n",
    "- встроенная визуализация Pandas\n",
    "- структура графика\n",
    "- matplotlib\n",
    "- различные типы графиков на примере seaborn\n",
    "- plotly\n",
    "\n",
    "Спикер/Ведущий: Владимир Горюнов  \n",
    "Slack: @Владимир Горюнов  \n",
    "\n",
    "Ссылка на форму обратной связи\n",
    "https://forms.gle/y8xaFwJqtbFSjUeG8 "
   ]
  },
  {
   "cell_type": "markdown",
   "metadata": {},
   "source": [
    "## Вопрос №1 Встроенная визуализация Pandas\n",
    "\n",
    "https://pandas.pydata.org/pandas-docs/stable/reference/api/pandas.DataFrame.plot.html"
   ]
  },
  {
   "cell_type": "code",
   "execution_count": null,
   "metadata": {},
   "outputs": [],
   "source": [
    "import pandas as pd \n",
    "import numpy as np \n",
    "\n",
    "pd.Series(np.random.randint(1,101, size=(1000))).hist() # равномерное распределение"
   ]
  },
  {
   "cell_type": "code",
   "execution_count": null,
   "metadata": {},
   "outputs": [],
   "source": [
    "mu, sigma = 0, 0.1\n",
    "pd.Series(np.random.normal(mu, sigma, 1000)).hist() # нормальное распределение"
   ]
  },
  {
   "cell_type": "markdown",
   "metadata": {},
   "source": [
    "### Задача 1.1 Сгенерировать таблицу тригонометрических функций и построить графики средствами pandas"
   ]
  },
  {
   "cell_type": "code",
   "execution_count": null,
   "metadata": {},
   "outputs": [],
   "source": [
    "import pandas as pd \n",
    "import numpy as np \n",
    "\n",
    "# создать таблицу значений для углов (-10*pi,10*pi)\n",
    "x = np.linspace(-10*np.pi, 10*np.pi, 1000)\n",
    "trig_df = pd.DataFrame(index=x)\n",
    "trig_df['sin(x)'] = np.sin(x)\n",
    "trig_df['cos(x)'] = np.cos(x)\n",
    "trig_df['sin(2x)'] =np.sin(2*x)\n",
    "trig_df['cos(3x+1)'] = 2*np.cos(3*x+1)\n",
    "# trig_df['tan(x)'] = np.tan(x)\n",
    "display(trig_df.head())\n",
    "trig_df.shape"
   ]
  },
  {
   "cell_type": "code",
   "execution_count": null,
   "metadata": {},
   "outputs": [],
   "source": [
    "trig_df.plot()"
   ]
  },
  {
   "cell_type": "code",
   "execution_count": null,
   "metadata": {},
   "outputs": [],
   "source": [
    "trig_df.plot(figsize=(15,10), grid=True, xlim=(-7, 7))"
   ]
  },
  {
   "cell_type": "code",
   "execution_count": null,
   "metadata": {},
   "outputs": [],
   "source": [
    "# разделение графиков по подграфикам\n",
    "trig_df.plot(subplots=True, y=['sin(x)','cos(3x+1)'])"
   ]
  },
  {
   "cell_type": "markdown",
   "metadata": {},
   "source": [
    "## Вопрос №2 Из каких частей состоит график\n",
    " "
   ]
  },
  {
   "cell_type": "markdown",
   "metadata": {},
   "source": [
    "### Задача 2.1 Оформляем график нескольких случайных процессов"
   ]
  },
  {
   "cell_type": "code",
   "execution_count": null,
   "metadata": {},
   "outputs": [],
   "source": [
    "rng = np.random.RandomState(0)\n",
    "x = np.linspace(0,10,500)\n",
    "rand_df = pd.DataFrame(np.cumsum(rng.randn(500, 6), 0))\n",
    "rand_df.plot()"
   ]
  },
  {
   "cell_type": "markdown",
   "metadata": {},
   "source": [
    "## Вопрос №3 Визуализация matplotlib\n",
    "\n",
    "- два интерфейса - стиль matlab - работа с plt\n",
    "- объектно-ориентированный интерфейс - работа с объектами fig, ax\n",
    "\n",
    "ссылка на документацию \n",
    "https://matplotlib.org/ "
   ]
  },
  {
   "cell_type": "markdown",
   "metadata": {},
   "source": [
    "### Задача 3.1 plt, fig, ax"
   ]
  },
  {
   "cell_type": "code",
   "execution_count": null,
   "metadata": {},
   "outputs": [],
   "source": [
    "%matplotlib inline\n",
    "import matplotlib.pyplot as plt\n",
    "# интерфейс в стиле matlab - взаимодействие непосредственно с plt\n",
    "plt.figure()\n",
    "plt.subplot(2, 1, 1)\n",
    "plt.plot(x, np.sin(x))"
   ]
  },
  {
   "cell_type": "code",
   "execution_count": null,
   "metadata": {},
   "outputs": [],
   "source": [
    "plt.subplot(2, 1, 2)\n",
    "plt.plot(x, np.cos(2*x))"
   ]
  },
  {
   "cell_type": "code",
   "execution_count": null,
   "metadata": {},
   "outputs": [],
   "source": [
    "fig, ax = plt.subplots(2) # создаем сетку, ax будет массивом из двух Axes\n",
    "# вызываем метод plot соответствующей оси\n",
    "ax[0].plot(x, np.sin(x))\n",
    "ax[1].plot(x, np.cos(2*x))"
   ]
  },
  {
   "cell_type": "code",
   "execution_count": null,
   "metadata": {},
   "outputs": [],
   "source": [
    "# можно и так\n",
    "fig = plt.figure()\n",
    "ax = plt.axes()"
   ]
  },
  {
   "cell_type": "markdown",
   "metadata": {},
   "source": [
    "Соответствие методов интерфейса plt   \n",
    "  \n",
    "plt.xlabel() -> ax.set_xLabel()  \n",
    "plt.ylabel() -> ax.set_yLabel()  \n",
    "plt.xlim() -> ax.set_xlim()  \n",
    "plt.ylim() -> ax.set_ylim()  \n",
    "plt.title() -> ax.set_title()  "
   ]
  },
  {
   "cell_type": "markdown",
   "metadata": {},
   "source": [
    "### Задача 3.2* Задание цветов линий"
   ]
  },
  {
   "cell_type": "code",
   "execution_count": null,
   "metadata": {},
   "outputs": [],
   "source": [
    "# выполняем последовательно несколько обращений к plt - все графики отображаются в одном окне\n",
    "plt.plot(x, np.sin(x), color='blue')          # цвет по названию\n",
    "plt.plot(x, np.sin(x-1), color='g')           # краткий код цвета (rgbcmyk)\n",
    "plt.plot(x, np.sin(x-2), color='0.75')        # шкала оттенков серого цвета от 0 до 1\n",
    "plt.plot(x, np.sin(x-3), color='#FFDD44')     # 16-ричный код\n",
    "plt.plot(x, np.sin(x-4), color=(1.0,0.2,0.3)) # кортеж rgb\n",
    "plt.plot(x, np.sin(x-5), color='olive')       # поддерживаются все названия цветов html"
   ]
  },
  {
   "cell_type": "markdown",
   "metadata": {},
   "source": [
    "### Задача 3.3* Задание стилей линий\n"
   ]
  },
  {
   "cell_type": "code",
   "execution_count": null,
   "metadata": {},
   "outputs": [],
   "source": [
    "plt.plot(x, x + 0, linestyle='solid')   # непрерывное\n",
    "plt.plot(x, x + 1, linestyle='dashed')  # пунктир\n",
    "plt.plot(x, x + 2, linestyle='dashdot') # штрих-пунктир\n",
    "plt.plot(x, x + 3, linestyle='dotted')  # точки\n",
    "# сокращенные коды \n",
    "plt.plot(x, x + 4, linestyle='-')\n",
    "plt.plot(x, x + 5, linestyle='--')\n",
    "plt.plot(x, x + 6, linestyle='-.')\n",
    "plt.plot(x, x + 7, linestyle=':')"
   ]
  },
  {
   "cell_type": "code",
   "execution_count": null,
   "metadata": {},
   "outputs": [],
   "source": [
    "# совмещенный синтаксис\n",
    "plt.plot(x, x+0, '-g')\n",
    "plt.plot(x, x+1, '--c')\n",
    "plt.plot(x, x+2, '-.k')\n",
    "plt.plot(x, x+3, ':r')"
   ]
  },
  {
   "cell_type": "markdown",
   "metadata": {},
   "source": [
    "## Вопрос №4 Различные типы графиков на примере seaborn\n",
    "\n",
    "https://seaborn.pydata.org/  \n",
    "\n",
    " - гистограмма\n",
    " - круговая диаграмма\n",
    " - линейная регрессия  \n",
    " - boxplot, ящик с усами\n",
    " - PairGrid - попарное сравнение признаков\n",
    " - тепловая карта"
   ]
  },
  {
   "cell_type": "markdown",
   "metadata": {},
   "source": [
    "### Задача 4.1 Гистограмма распределения алмазов по стоимости, с учетом типа огранки"
   ]
  },
  {
   "cell_type": "code",
   "execution_count": null,
   "metadata": {},
   "outputs": [],
   "source": [
    "import seaborn as sns\n",
    "import matplotlib as mpl\n",
    "import matplotlib.pyplot as plt\n",
    "\n",
    "diamonds = sns.load_dataset(\"diamonds\")\n",
    "print(diamonds.shape)\n",
    "diamonds.head()"
   ]
  },
  {
   "cell_type": "code",
   "execution_count": null,
   "metadata": {},
   "outputs": [],
   "source": [
    "sns.set_theme(style=\"darkgrid\") # darkgrid, whitegrid, dark, white, ticks\n",
    "f, ax = plt.subplots(figsize=(7, 5))\n",
    "sns.despine(f) # remove the top and right spines from plot\n",
    "\n",
    "sns.histplot(\n",
    "    diamonds,\n",
    "    x=\"price\", hue=\"cut\",\n",
    "    multiple=\"stack\",\n",
    "    palette=\"light:m_r\",\n",
    "    edgecolor=\".3\",\n",
    "    linewidth=.5,\n",
    "    log_scale=True,\n",
    ")\n",
    "ax.xaxis.set_major_formatter(mpl.ticker.ScalarFormatter())\n",
    "ax.set_xticks([500, 1000, 2000, 5000, 10000]);"
   ]
  },
  {
   "cell_type": "markdown",
   "metadata": {},
   "source": [
    "### Задача 4.2 Построение круговой диаграммы по категориям огранки"
   ]
  },
  {
   "cell_type": "code",
   "execution_count": null,
   "metadata": {},
   "outputs": [],
   "source": [
    "# подготовим данные\n",
    "diamonds_cut = diamonds.groupby(\"cut\")['carat'].count()\n",
    "diamonds_cut"
   ]
  },
  {
   "cell_type": "code",
   "execution_count": null,
   "metadata": {},
   "outputs": [],
   "source": [
    "# с использованием matplotlib\n",
    "pie, ax = plt.subplots(figsize=[10,6])\n",
    "labels = diamonds_cut.keys()\n",
    "plt.pie(x=diamonds_cut, autopct=\"%.1f%%\", explode=[0.05]*5, labels=labels, pctdistance=0.5)\n",
    "plt.title(\"Типы огранки\", fontsize=14);\n",
    "pie.savefig(\"diamonds_cut.png\") # пример сохранения изображения в файл"
   ]
  },
  {
   "cell_type": "markdown",
   "metadata": {},
   "source": [
    "### Задача 4.3 График линейной регрессии, набор данных tips"
   ]
  },
  {
   "cell_type": "code",
   "execution_count": null,
   "metadata": {},
   "outputs": [],
   "source": [
    "tips = sns.load_dataset(\"tips\")\n",
    "display(tips.head())\n",
    "g = sns.jointplot(x=\"total_bill\", y=\"tip\", data=tips, kind=\"reg\", truncate=False,\n",
    "                  xlim=(0, 60), ylim=(0, 12), color=\"g\", height=7)"
   ]
  },
  {
   "cell_type": "markdown",
   "metadata": {},
   "source": [
    "### Задача 4.4 Boxplot, Ящик с усами"
   ]
  },
  {
   "cell_type": "code",
   "execution_count": null,
   "metadata": {},
   "outputs": [],
   "source": [
    "sns.set_theme(style=\"ticks\", palette=\"pastel\")\n",
    "sns.boxplot(x=\"day\", y=\"total_bill\", hue=\"smoker\", palette=[\"c\", \"g\"],\n",
    "            data=tips)\n",
    "sns.despine(offset=10, trim=True)"
   ]
  },
  {
   "cell_type": "markdown",
   "metadata": {},
   "source": [
    "### Задача 4.5 Попарное сравнение признаков, набор данных iris"
   ]
  },
  {
   "cell_type": "code",
   "execution_count": null,
   "metadata": {},
   "outputs": [],
   "source": [
    "sns.set_theme(style=\"darkgrid\")\n",
    "iris = sns.load_dataset(\"iris\")\n",
    "g = sns.PairGrid(iris, hue=\"species\")\n",
    "g.map_diag(sns.histplot)\n",
    "g.map_offdiag(sns.scatterplot)\n",
    "g.add_legend();"
   ]
  },
  {
   "cell_type": "markdown",
   "metadata": {},
   "source": [
    "### Задача 4.6* Тепловая карта, набор данных boston\n"
   ]
  },
  {
   "cell_type": "code",
   "execution_count": null,
   "metadata": {},
   "outputs": [],
   "source": [
    "# CRIM: Per capita crime rate by town\n",
    "# ZN: Proportion of residential land zoned for lots over 25,000 sq. ft\n",
    "# INDUS: Proportion of non-retail business acres per town\n",
    "# CHAS: Charles River dummy variable (= 1 if tract bounds river; 0 otherwise)\n",
    "# NOX: Nitric oxide concentration (parts per 10 million)\n",
    "# RM: Average number of rooms per dwelling\n",
    "# AGE: Proportion of owner-occupied units built prior to 1940\n",
    "# DIS: Weighted distances to five Boston employment centers\n",
    "# RAD: Index of accessibility to radial highways\n",
    "# TAX: Full-value property tax rate per $10,000\n",
    "# PTRATIO: Pupil-teacher ratio by town\n",
    "# B: 1000(Bk — 0.63)², where Bk is the proportion of [people of African American descent] by town\n",
    "# LSTAT: Percentage of lower status of the population\n",
    "# MEDV: Median value of owner-occupied homes in $1000s"
   ]
  },
  {
   "cell_type": "code",
   "execution_count": null,
   "metadata": {},
   "outputs": [],
   "source": [
    "from sklearn.datasets import load_boston\n",
    "#увеличим дефолтный размер графиков\n",
    "# from pylab import rcParams\n",
    "# rcParams['figure.figsize'] = 10, 8\n",
    "\n",
    "boston = load_boston()\n",
    "boston_df = pd.DataFrame(boston['data'], columns=boston['feature_names'])\n",
    "boston_df.head()\n",
    "sns.heatmap(boston_df.corr(), annot=True, cmap=\"Greens\");"
   ]
  },
  {
   "cell_type": "markdown",
   "metadata": {},
   "source": [
    "## Вопрос №5 Plotly\n"
   ]
  },
  {
   "cell_type": "code",
   "execution_count": null,
   "metadata": {},
   "outputs": [],
   "source": [
    "# !pip install plotly\n",
    "# !pip install cufflinks\n",
    "# Пакет plotly – библиотека с открытым исходным кодом, построенная на plotly.js, которая, в свою очередь, базируется на d3.js.\n",
    "# в plotly есть такие же встроенные наборы данных которые можно поисследовать\n",
    "# https://plotly.com/python-api-reference/generated/plotly.data.html"
   ]
  },
  {
   "cell_type": "code",
   "execution_count": null,
   "metadata": {},
   "outputs": [],
   "source": [
    "import plotly.express as px\n",
    "df = px.data.iris()\n",
    "fig = px.scatter_matrix(df, dimensions=[\"sepal_width\", \"sepal_length\", \"petal_width\", \"petal_length\"], color=\"species\")\n",
    "fig.show()"
   ]
  },
  {
   "cell_type": "code",
   "execution_count": null,
   "metadata": {},
   "outputs": [],
   "source": [
    "# Посмотрим пример построения свечных графиков с помощью Plotly\n",
    "# https://plotly.com/python/candlestick-charts/\n",
    "import plotly.graph_objects as go\n",
    "import pandas as pd\n",
    "from datetime import datetime\n",
    "\n",
    "# скачаем данные по стоимости акций из готового набора \n",
    "df = pd.read_csv('https://raw.githubusercontent.com/plotly/datasets/master/finance-charts-apple.csv')\n",
    "\n",
    "fig = go.Figure(data=[go.Candlestick(x=df['Date'],\n",
    "                open=df['AAPL.Open'],\n",
    "                high=df['AAPL.High'],\n",
    "                low=df['AAPL.Low'],\n",
    "                close=df['AAPL.Close'])])\n",
    "fig.show()"
   ]
  },
  {
   "cell_type": "markdown",
   "metadata": {},
   "source": [
    "## Приложение 1. Полезные ссылки\n",
    "- https://pandas.pydata.org/pandas-docs/stable/reference/api/pandas.DataFrame.plot.html\n",
    "- https://matplotlib.org/\n",
    "- https://seaborn.pydata.org/\n",
    "- https://plotly.com/python/"
   ]
  },
  {
   "cell_type": "markdown",
   "metadata": {},
   "source": [
    "## Спасибо за внимание!"
   ]
  }
 ],
 "metadata": {
  "kernelspec": {
   "display_name": "Python 3",
   "language": "python",
   "name": "python3"
  },
  "language_info": {
   "codemirror_mode": {
    "name": "ipython",
    "version": 3
   },
   "file_extension": ".py",
   "mimetype": "text/x-python",
   "name": "python",
   "nbconvert_exporter": "python",
   "pygments_lexer": "ipython3",
   "version": "3.8.5"
  }
 },
 "nbformat": 4,
 "nbformat_minor": 2
}
